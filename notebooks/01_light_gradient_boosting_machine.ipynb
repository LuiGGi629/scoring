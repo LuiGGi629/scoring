{
 "cells": [
  {
   "cell_type": "code",
   "execution_count": 3,
   "metadata": {},
   "outputs": [
    {
     "name": "stdout",
     "output_type": "stream",
     "text": [
      "Train samples: 501808, test samples: 106895\n",
      "train & test - done in 7s\n",
      "split train & test - done in 0s\n",
      "Starting LightGBM. Train shape: (501808, 122), test shape: (106895, 122)\n"
     ]
    },
    {
     "name": "stderr",
     "output_type": "stream",
     "text": [
      "/home/ubuntu/notebooks/venv/lib/python3.6/site-packages/lightgbm/engine.py:148: UserWarning: Found `n_estimators` in params. Will use it instead of argument\n",
      "  warnings.warn(\"Found `{}` in params. Will use it instead of argument\".format(alias))\n"
     ]
    },
    {
     "name": "stdout",
     "output_type": "stream",
     "text": [
      "Training until validation scores don't improve for 200 rounds\n",
      "[100]\ttrain's rmse: 0.339253\ttrain's l1: 0.291663\ttest's rmse: 0.353671\ttest's l1: 0.303299\n",
      "[200]\ttrain's rmse: 0.328344\ttrain's l1: 0.28263\ttest's rmse: 0.35551\ttest's l1: 0.305294\n",
      "Early stopping, best iteration is:\n",
      "[1]\ttrain's rmse: 0.352808\ttrain's l1: 0.299808\ttest's rmse: 0.352057\ttest's l1: 0.298233\n",
      "Fold  1 RMSE : 0.352057\n",
      "Fold  1 MAE : 0.298233\n"
     ]
    },
    {
     "name": "stderr",
     "output_type": "stream",
     "text": [
      "/home/ubuntu/notebooks/venv/lib/python3.6/site-packages/lightgbm/engine.py:148: UserWarning: Found `n_estimators` in params. Will use it instead of argument\n",
      "  warnings.warn(\"Found `{}` in params. Will use it instead of argument\".format(alias))\n"
     ]
    },
    {
     "name": "stdout",
     "output_type": "stream",
     "text": [
      "Training until validation scores don't improve for 200 rounds\n",
      "[100]\ttrain's rmse: 0.339599\ttrain's l1: 0.291829\ttest's rmse: 0.354356\ttest's l1: 0.304456\n",
      "[200]\ttrain's rmse: 0.328764\ttrain's l1: 0.2829\ttest's rmse: 0.355806\ttest's l1: 0.306144\n",
      "Early stopping, best iteration is:\n",
      "[1]\ttrain's rmse: 0.352704\ttrain's l1: 0.299606\ttest's rmse: 0.352928\ttest's l1: 0.300008\n",
      "Fold  2 RMSE : 0.352928\n",
      "Fold  2 MAE : 0.300008\n"
     ]
    },
    {
     "name": "stderr",
     "output_type": "stream",
     "text": [
      "/home/ubuntu/notebooks/venv/lib/python3.6/site-packages/lightgbm/engine.py:148: UserWarning: Found `n_estimators` in params. Will use it instead of argument\n",
      "  warnings.warn(\"Found `{}` in params. Will use it instead of argument\".format(alias))\n"
     ]
    },
    {
     "name": "stdout",
     "output_type": "stream",
     "text": [
      "Training until validation scores don't improve for 200 rounds\n",
      "[100]\ttrain's rmse: 0.33955\ttrain's l1: 0.291832\ttest's rmse: 0.353939\ttest's l1: 0.304069\n",
      "[200]\ttrain's rmse: 0.328672\ttrain's l1: 0.282831\ttest's rmse: 0.355535\ttest's l1: 0.305865\n",
      "Early stopping, best iteration is:\n",
      "[1]\ttrain's rmse: 0.352765\ttrain's l1: 0.299621\ttest's rmse: 0.352457\ttest's l1: 0.2994\n",
      "Fold  3 RMSE : 0.352457\n",
      "Fold  3 MAE : 0.299400\n"
     ]
    },
    {
     "name": "stderr",
     "output_type": "stream",
     "text": [
      "/home/ubuntu/notebooks/venv/lib/python3.6/site-packages/lightgbm/engine.py:148: UserWarning: Found `n_estimators` in params. Will use it instead of argument\n",
      "  warnings.warn(\"Found `{}` in params. Will use it instead of argument\".format(alias))\n"
     ]
    },
    {
     "name": "stdout",
     "output_type": "stream",
     "text": [
      "Training until validation scores don't improve for 200 rounds\n",
      "[100]\ttrain's rmse: 0.339124\ttrain's l1: 0.291431\ttest's rmse: 0.355347\ttest's l1: 0.305526\n",
      "[200]\ttrain's rmse: 0.32812\ttrain's l1: 0.282316\ttest's rmse: 0.356855\ttest's l1: 0.307372\n",
      "Early stopping, best iteration is:\n",
      "[1]\ttrain's rmse: 0.352603\ttrain's l1: 0.299431\ttest's rmse: 0.353942\ttest's l1: 0.300916\n",
      "Fold  4 RMSE : 0.353942\n",
      "Fold  4 MAE : 0.300916\n"
     ]
    },
    {
     "name": "stderr",
     "output_type": "stream",
     "text": [
      "/home/ubuntu/notebooks/venv/lib/python3.6/site-packages/lightgbm/engine.py:148: UserWarning: Found `n_estimators` in params. Will use it instead of argument\n",
      "  warnings.warn(\"Found `{}` in params. Will use it instead of argument\".format(alias))\n"
     ]
    },
    {
     "name": "stdout",
     "output_type": "stream",
     "text": [
      "Training until validation scores don't improve for 200 rounds\n",
      "[100]\ttrain's rmse: 0.33933\ttrain's l1: 0.291743\ttest's rmse: 0.35364\ttest's l1: 0.303699\n",
      "[200]\ttrain's rmse: 0.328525\ttrain's l1: 0.282742\ttest's rmse: 0.355267\ttest's l1: 0.305507\n",
      "Early stopping, best iteration is:\n",
      "[1]\ttrain's rmse: 0.352741\ttrain's l1: 0.299651\ttest's rmse: 0.352634\ttest's l1: 0.299331\n",
      "Fold  5 RMSE : 0.352634\n",
      "Fold  5 MAE : 0.299331\n"
     ]
    },
    {
     "name": "stderr",
     "output_type": "stream",
     "text": [
      "/home/ubuntu/notebooks/venv/lib/python3.6/site-packages/lightgbm/engine.py:148: UserWarning: Found `n_estimators` in params. Will use it instead of argument\n",
      "  warnings.warn(\"Found `{}` in params. Will use it instead of argument\".format(alias))\n"
     ]
    },
    {
     "name": "stdout",
     "output_type": "stream",
     "text": [
      "Training until validation scores don't improve for 200 rounds\n",
      "[100]\ttrain's rmse: 0.339553\ttrain's l1: 0.291746\ttest's rmse: 0.354419\ttest's l1: 0.304819\n",
      "[200]\ttrain's rmse: 0.328659\ttrain's l1: 0.28269\ttest's rmse: 0.356024\ttest's l1: 0.306728\n",
      "Early stopping, best iteration is:\n",
      "[1]\ttrain's rmse: 0.352709\ttrain's l1: 0.299538\ttest's rmse: 0.352931\ttest's l1: 0.299991\n",
      "Fold  6 RMSE : 0.352931\n",
      "Fold  6 MAE : 0.299991\n"
     ]
    },
    {
     "name": "stderr",
     "output_type": "stream",
     "text": [
      "/home/ubuntu/notebooks/venv/lib/python3.6/site-packages/lightgbm/engine.py:148: UserWarning: Found `n_estimators` in params. Will use it instead of argument\n",
      "  warnings.warn(\"Found `{}` in params. Will use it instead of argument\".format(alias))\n"
     ]
    },
    {
     "name": "stdout",
     "output_type": "stream",
     "text": [
      "Training until validation scores don't improve for 200 rounds\n",
      "[100]\ttrain's rmse: 0.339255\ttrain's l1: 0.291535\ttest's rmse: 0.355126\ttest's l1: 0.305275\n",
      "[200]\ttrain's rmse: 0.328758\ttrain's l1: 0.282778\ttest's rmse: 0.356936\ttest's l1: 0.307355\n",
      "Early stopping, best iteration is:\n",
      "[1]\ttrain's rmse: 0.352654\ttrain's l1: 0.299588\ttest's rmse: 0.353355\ttest's l1: 0.300303\n",
      "Fold  7 RMSE : 0.353355\n",
      "Fold  7 MAE : 0.300303\n"
     ]
    },
    {
     "name": "stderr",
     "output_type": "stream",
     "text": [
      "/home/ubuntu/notebooks/venv/lib/python3.6/site-packages/lightgbm/engine.py:148: UserWarning: Found `n_estimators` in params. Will use it instead of argument\n",
      "  warnings.warn(\"Found `{}` in params. Will use it instead of argument\".format(alias))\n"
     ]
    },
    {
     "name": "stdout",
     "output_type": "stream",
     "text": [
      "Training until validation scores don't improve for 200 rounds\n",
      "[100]\ttrain's rmse: 0.339463\ttrain's l1: 0.291719\ttest's rmse: 0.353784\ttest's l1: 0.303841\n",
      "[200]\ttrain's rmse: 0.328758\ttrain's l1: 0.28284\ttest's rmse: 0.355532\ttest's l1: 0.30583\n",
      "Early stopping, best iteration is:\n",
      "[1]\ttrain's rmse: 0.352787\ttrain's l1: 0.299711\ttest's rmse: 0.352288\ttest's l1: 0.299088\n",
      "Fold  8 RMSE : 0.352288\n",
      "Fold  8 MAE : 0.299088\n"
     ]
    },
    {
     "name": "stderr",
     "output_type": "stream",
     "text": [
      "/home/ubuntu/notebooks/venv/lib/python3.6/site-packages/lightgbm/engine.py:148: UserWarning: Found `n_estimators` in params. Will use it instead of argument\n",
      "  warnings.warn(\"Found `{}` in params. Will use it instead of argument\".format(alias))\n"
     ]
    },
    {
     "name": "stdout",
     "output_type": "stream",
     "text": [
      "Training until validation scores don't improve for 200 rounds\n",
      "[100]\ttrain's rmse: 0.339006\ttrain's l1: 0.291386\ttest's rmse: 0.355062\ttest's l1: 0.305138\n",
      "[200]\ttrain's rmse: 0.328139\ttrain's l1: 0.282421\ttest's rmse: 0.356782\ttest's l1: 0.307187\n",
      "Early stopping, best iteration is:\n",
      "[1]\ttrain's rmse: 0.352666\ttrain's l1: 0.299543\ttest's rmse: 0.353308\ttest's l1: 0.300136\n",
      "Fold  9 RMSE : 0.353308\n",
      "Fold  9 MAE : 0.300136\n"
     ]
    },
    {
     "name": "stderr",
     "output_type": "stream",
     "text": [
      "/home/ubuntu/notebooks/venv/lib/python3.6/site-packages/lightgbm/engine.py:148: UserWarning: Found `n_estimators` in params. Will use it instead of argument\n",
      "  warnings.warn(\"Found `{}` in params. Will use it instead of argument\".format(alias))\n"
     ]
    },
    {
     "name": "stdout",
     "output_type": "stream",
     "text": [
      "Training until validation scores don't improve for 200 rounds\n",
      "[100]\ttrain's rmse: 0.339346\ttrain's l1: 0.291591\ttest's rmse: 0.354629\ttest's l1: 0.304979\n",
      "[200]\ttrain's rmse: 0.328409\ttrain's l1: 0.282533\ttest's rmse: 0.356503\ttest's l1: 0.307057\n",
      "Early stopping, best iteration is:\n",
      "[1]\ttrain's rmse: 0.352682\ttrain's l1: 0.299564\ttest's rmse: 0.353172\ttest's l1: 0.300283\n",
      "Fold 10 RMSE : 0.353172\n",
      "Fold 10 MAE : 0.300283\n",
      "Run LightGBM with kfold - done in 66s\n",
      "Full model run - done in 73s\n"
     ]
    },
    {
     "data": {
      "image/png": "[encoded data removed]",
      "text/plain": [
       "<Figure size 576x720 with 1 Axes>"
      ]
     },
     "metadata": {
      "needs_background": "light"
     },
     "output_type": "display_data"
    }
   ],
   "source": [
    "import gc\n",
    "import re\n",
    "import time\n",
    "import warnings\n",
    "from contextlib import contextmanager\n",
    "\n",
    "import lightgbm as lgb\n",
    "import matplotlib.pyplot as plt\n",
    "import numpy as np\n",
    "import pandas as pd\n",
    "import seaborn as sns\n",
    "from pandas.core.common import SettingWithCopyWarning\n",
    "from sklearn.metrics import mean_squared_error\n",
    "from sklearn.model_selection import KFold, StratifiedKFold\n",
    "\n",
    "warnings.simplefilter(action=\"ignore\", category=SettingWithCopyWarning)\n",
    "warnings.simplefilter(action=\"ignore\", category=FutureWarning)\n",
    "\n",
    "FEATS_EXCLUDED = [\"ROW_ID\", \"target\"]\n",
    "\n",
    "\n",
    "def main(debug=False):\n",
    "    num_rows = 10_000 if debug else None\n",
    "    with timer(\"train & test\"):\n",
    "        df = train_test(num_rows)\n",
    "    with timer(\"split train & test\"):\n",
    "        train_df = df[df[\"target\"].notnull()]\n",
    "        test_df = df[df[\"target\"].isnull()]\n",
    "        del df\n",
    "        gc.collect()\n",
    "    with timer(\"Run LightGBM with kfold\"):\n",
    "        kfold_lightgbm(train_df, test_df, num_folds=10, stratified=False, debug=debug)\n",
    "\n",
    "\n",
    "@contextmanager\n",
    "def timer(title):\n",
    "    t0 = time.time()\n",
    "    yield\n",
    "    print(f\"{title} - done in {time.time() - t0:.0f}s\")\n",
    "\n",
    "\n",
    "def rmse(y_true, y_pred):\n",
    "    return np.sqrt(mean_squared_error(y_true, y_pred))\n",
    "\n",
    "\n",
    "def mae(y_true, y_pred):\n",
    "    return np.mean(abs(y_pred - y_true))\n",
    "\n",
    "\n",
    "def train_test(num_rows=None):\n",
    "\n",
    "    # load csv\n",
    "    train_df = pd.read_csv(\n",
    "        \"../data/processed/fm_wo_collinear.csv\", index_col=[\"ROW_ID\"], nrows=num_rows,\n",
    "    )\n",
    "    test_df = pd.read_csv(\n",
    "        \"../data/processed/fm_test_wo_collinear.csv\",\n",
    "        index_col=[\"ROW_ID\"],\n",
    "        nrows=num_rows,\n",
    "    )\n",
    "\n",
    "    train_df = train_df.rename(columns=lambda x: re.sub(\"[^A-Za-z0-9_]+\", \"\", x))\n",
    "    test_df = test_df.rename(columns=lambda x: re.sub(\"[^A-Za-z0-9_]+\", \"\", x))\n",
    "\n",
    "    print(f\"Train samples: {len(train_df)}, test samples: {len(test_df)}\")\n",
    "\n",
    "    # set target as nan\n",
    "    test_df[\"target\"] = np.nan\n",
    "\n",
    "    # merge\n",
    "    df = train_df.append(test_df)\n",
    "\n",
    "    del train_df, test_df\n",
    "    gc.collect()\n",
    "\n",
    "    return df\n",
    "\n",
    "\n",
    "# Display/plot feature importance\n",
    "def display_importances(feature_importance_df_):\n",
    "    cols = (\n",
    "        feature_importance_df_[[\"feature\", \"importance\"]]\n",
    "        .groupby(\"feature\")\n",
    "        .mean()\n",
    "        .sort_values(by=\"importance\", ascending=False)[:10]\n",
    "        .index\n",
    "    )\n",
    "    best_features = feature_importance_df_.loc[\n",
    "        feature_importance_df_.feature.isin(cols)\n",
    "    ]\n",
    "\n",
    "    plt.figure(figsize=(8, 10))\n",
    "    sns.barplot(\n",
    "        x=\"importance\",\n",
    "        y=\"feature\",\n",
    "        data=best_features.sort_values(by=\"importance\", ascending=False),\n",
    "    )\n",
    "    plt.title(\"LightGBM Features (avg over folds)\")\n",
    "    plt.tight_layout()\n",
    "    plt.savefig(\"../reports/figures/lgbm_importances.png\")\n",
    "\n",
    "\n",
    "# LightGBM GBDT with KFold or Stratified KFold\n",
    "def kfold_lightgbm(train_df, test_df, num_folds, stratified=False, debug=False):\n",
    "    print(\n",
    "        f\"Starting LightGBM. Train shape: {train_df.shape}, test shape: {test_df.shape}\"\n",
    "    )\n",
    "\n",
    "    # Cross validation model\n",
    "    if stratified:\n",
    "        folds = StratifiedKFold(n_splits=num_folds, shuffle=True, random_state=326)\n",
    "    else:\n",
    "        folds = KFold(n_splits=num_folds, shuffle=True, random_state=326)\n",
    "\n",
    "    # Create arrays and dataframes to store results\n",
    "    oof_preds = np.zeros(train_df.shape[0])\n",
    "    sub_preds = np.zeros(test_df.shape[0])\n",
    "    feature_importance_df = pd.DataFrame()\n",
    "    feats = [f for f in train_df.columns if f not in FEATS_EXCLUDED]\n",
    "\n",
    "    # k-fold\n",
    "    for n_fold, (train_idx, valid_idx) in enumerate(\n",
    "        folds.split(train_df[feats], train_df[\"target\"])\n",
    "    ):\n",
    "        train_x, train_y = (\n",
    "            train_df[feats].iloc[train_idx],\n",
    "            train_df[\"target\"].iloc[train_idx],\n",
    "        )\n",
    "        valid_x, valid_y = (\n",
    "            train_df[feats].iloc[valid_idx],\n",
    "            train_df[\"target\"].iloc[valid_idx],\n",
    "        )\n",
    "\n",
    "        # set data structure\n",
    "        lgb_train = lgb.Dataset(train_x, label=train_y, free_raw_data=False)\n",
    "        lgb_test = lgb.Dataset(valid_x, label=valid_y, free_raw_data=False)\n",
    "\n",
    "        # params optimized by hyperopt\n",
    "        params = {\n",
    "            \"colsample_by_tree\": 0.7200057909889617,\n",
    "            \"subsample\": 0.8682562659849684,\n",
    "            \"is_unbalance\": True,\n",
    "            \"learning_rate\": 0.2845657674234743,\n",
    "            \"min_child_samples\": 195,\n",
    "            \"num_leaves\": 71,\n",
    "            \"reg_alpha\": 0.8465888279920283,\n",
    "            \"reg_lambda\": 0.21817506765489925,\n",
    "            \"subsample_for_bin\": 160_000,\n",
    "            \"n_estimators\": 10_000,\n",
    "            \"metric\": [\"rmse\", \"mae\"],\n",
    "            \"n_jobs\": 16,\n",
    "        }\n",
    "\n",
    "        reg = lgb.train(\n",
    "            params,\n",
    "            lgb_train,\n",
    "            valid_sets=[lgb_train, lgb_test],\n",
    "            valid_names=[\"train\", \"test\"],\n",
    "            num_boost_round=10_000,\n",
    "            early_stopping_rounds=200,\n",
    "            verbose_eval=100,\n",
    "        )\n",
    "\n",
    "        oof_preds[valid_idx] = reg.predict(valid_x, num_iteration=reg.best_iteration)\n",
    "        sub_preds += (\n",
    "            reg.predict(test_df[feats], num_iteration=reg.best_iteration)\n",
    "            / folds.n_splits\n",
    "        )\n",
    "\n",
    "        fold_importance_df = pd.DataFrame()\n",
    "        fold_importance_df[\"feature\"] = feats\n",
    "        fold_importance_df[\"importance\"] = np.log1p(\n",
    "            reg.feature_importance(importance_type=\"gain\", iteration=reg.best_iteration)\n",
    "        )\n",
    "        fold_importance_df[\"fold\"] = n_fold + 1\n",
    "        feature_importance_df = pd.concat(\n",
    "            [feature_importance_df, fold_importance_df], axis=0\n",
    "        )\n",
    "        print(\n",
    "            \"Fold %2d RMSE : %.6f\" % (n_fold + 1, rmse(valid_y, oof_preds[valid_idx]))\n",
    "        )\n",
    "        print(\"Fold %2d MAE : %.6f\" % (n_fold + 1, mae(valid_y, oof_preds[valid_idx])))\n",
    "        del reg, train_x, train_y, valid_x, valid_y\n",
    "        gc.collect()\n",
    "\n",
    "    # display importances\n",
    "    display_importances(feature_importance_df)\n",
    "\n",
    "    if not debug:\n",
    "        # save submission file\n",
    "        test_df.loc[:, \"target\"] = sub_preds\n",
    "        test_df = test_df.reset_index()\n",
    "        test_df[[\"ROW_ID\", \"target\"]].to_csv(submission_file_name, index=False)\n",
    "\n",
    "\n",
    "if __name__ == \"__main__\":\n",
    "    submission_file_name = \"../reports/submission.csv\"\n",
    "    with timer(\"Full model run\"):\n",
    "        main(debug=False)\n"
   ]
  }
 ],
 "metadata": {
  "kernelspec": {
   "display_name": "scoring",
   "language": "python",
   "name": "scoring"
  },
  "language_info": {
   "codemirror_mode": {
    "name": "ipython",
    "version": 3
   },
   "file_extension": ".py",
   "mimetype": "text/x-python",
   "name": "python",
   "nbconvert_exporter": "python",
   "pygments_lexer": "ipython3",
   "version": "3.6.9"
  }
 },
 "nbformat": 4,
 "nbformat_minor": 4
}
