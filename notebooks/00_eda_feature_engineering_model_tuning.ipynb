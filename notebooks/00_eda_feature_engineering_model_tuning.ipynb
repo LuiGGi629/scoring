{
 "cells": [
  {
   "cell_type": "code",
   "execution_count": 1,
   "metadata": {},
   "outputs": [],
   "source": [
    "import csv\n",
    "import random\n",
    "import warnings\n",
    "from timeit import default_timer as timer\n",
    "\n",
    "import featuretools as ft\n",
    "import lightgbm as lgb\n",
    "import matplotlib.pyplot as plt\n",
    "import numpy as np\n",
    "import pandas as pd\n",
    "import seaborn as sns\n",
    "from featuretools import selection\n",
    "from hyperopt import STATUS_OK, Trials, fmin, hp, tpe\n",
    "from hyperopt.pyll.stochastic import sample\n",
    "from sklearn.metrics import mean_absolute_error\n",
    "from sklearn.model_selection import train_test_split\n",
    "\n",
    "warnings.filterwarnings(\"ignore\")\n",
    "plt.style.use(\"fivethirtyeight\")"
   ]
  },
  {
   "cell_type": "code",
   "execution_count": 2,
   "metadata": {},
   "outputs": [
    {
     "name": "stdout",
     "output_type": "stream",
     "text": [
      "Testing data shape:  (106895, 312)\n"
     ]
    },
    {
     "data": {
      "text/html": [
       "<div>\n",
       "<style scoped>\n",
       "    .dataframe tbody tr th:only-of-type {\n",
       "        vertical-align: middle;\n",
       "    }\n",
       "\n",
       "    .dataframe tbody tr th {\n",
       "        vertical-align: top;\n",
       "    }\n",
       "\n",
       "    .dataframe thead th {\n",
       "        text-align: right;\n",
       "    }\n",
       "</style>\n",
       "<table border=\"1\" class=\"dataframe\">\n",
       "  <thead>\n",
       "    <tr style=\"text-align: right;\">\n",
       "      <th></th>\n",
       "      <th>ROW_ID</th>\n",
       "      <th>Time_Period</th>\n",
       "      <th>v496</th>\n",
       "      <th>v495</th>\n",
       "      <th>v494</th>\n",
       "      <th>v493</th>\n",
       "      <th>v492</th>\n",
       "      <th>v491</th>\n",
       "      <th>v490</th>\n",
       "      <th>v489</th>\n",
       "      <th>...</th>\n",
       "      <th>v196</th>\n",
       "      <th>v195</th>\n",
       "      <th>v194</th>\n",
       "      <th>v193</th>\n",
       "      <th>v192</th>\n",
       "      <th>v191</th>\n",
       "      <th>v190</th>\n",
       "      <th>v189</th>\n",
       "      <th>v188</th>\n",
       "      <th>v187</th>\n",
       "    </tr>\n",
       "  </thead>\n",
       "  <tbody>\n",
       "    <tr>\n",
       "      <th>0</th>\n",
       "      <td>1000001</td>\n",
       "      <td>121</td>\n",
       "      <td>0.25</td>\n",
       "      <td>0.75</td>\n",
       "      <td>0.50</td>\n",
       "      <td>0.50</td>\n",
       "      <td>0.0</td>\n",
       "      <td>0.75</td>\n",
       "      <td>0.5</td>\n",
       "      <td>0.25</td>\n",
       "      <td>...</td>\n",
       "      <td>0.75</td>\n",
       "      <td>0.75</td>\n",
       "      <td>0.75</td>\n",
       "      <td>1.00</td>\n",
       "      <td>0.75</td>\n",
       "      <td>0.50</td>\n",
       "      <td>0.5</td>\n",
       "      <td>1.0</td>\n",
       "      <td>0.00</td>\n",
       "      <td>0.00</td>\n",
       "    </tr>\n",
       "    <tr>\n",
       "      <th>1</th>\n",
       "      <td>1000002</td>\n",
       "      <td>121</td>\n",
       "      <td>0.75</td>\n",
       "      <td>0.50</td>\n",
       "      <td>0.75</td>\n",
       "      <td>1.00</td>\n",
       "      <td>0.5</td>\n",
       "      <td>0.00</td>\n",
       "      <td>0.0</td>\n",
       "      <td>0.75</td>\n",
       "      <td>...</td>\n",
       "      <td>0.50</td>\n",
       "      <td>0.50</td>\n",
       "      <td>0.50</td>\n",
       "      <td>0.75</td>\n",
       "      <td>1.00</td>\n",
       "      <td>0.75</td>\n",
       "      <td>0.5</td>\n",
       "      <td>0.5</td>\n",
       "      <td>0.50</td>\n",
       "      <td>0.50</td>\n",
       "    </tr>\n",
       "    <tr>\n",
       "      <th>2</th>\n",
       "      <td>1000003</td>\n",
       "      <td>121</td>\n",
       "      <td>1.00</td>\n",
       "      <td>0.00</td>\n",
       "      <td>0.00</td>\n",
       "      <td>1.00</td>\n",
       "      <td>1.0</td>\n",
       "      <td>1.00</td>\n",
       "      <td>1.0</td>\n",
       "      <td>1.00</td>\n",
       "      <td>...</td>\n",
       "      <td>0.00</td>\n",
       "      <td>0.00</td>\n",
       "      <td>0.00</td>\n",
       "      <td>0.50</td>\n",
       "      <td>0.25</td>\n",
       "      <td>0.00</td>\n",
       "      <td>0.0</td>\n",
       "      <td>0.5</td>\n",
       "      <td>0.50</td>\n",
       "      <td>0.00</td>\n",
       "    </tr>\n",
       "    <tr>\n",
       "      <th>3</th>\n",
       "      <td>1000004</td>\n",
       "      <td>121</td>\n",
       "      <td>0.75</td>\n",
       "      <td>1.00</td>\n",
       "      <td>1.00</td>\n",
       "      <td>0.50</td>\n",
       "      <td>0.0</td>\n",
       "      <td>0.00</td>\n",
       "      <td>0.0</td>\n",
       "      <td>0.50</td>\n",
       "      <td>...</td>\n",
       "      <td>0.00</td>\n",
       "      <td>0.00</td>\n",
       "      <td>0.00</td>\n",
       "      <td>0.00</td>\n",
       "      <td>0.25</td>\n",
       "      <td>0.00</td>\n",
       "      <td>0.0</td>\n",
       "      <td>0.0</td>\n",
       "      <td>0.25</td>\n",
       "      <td>0.25</td>\n",
       "    </tr>\n",
       "    <tr>\n",
       "      <th>4</th>\n",
       "      <td>1000005</td>\n",
       "      <td>121</td>\n",
       "      <td>0.25</td>\n",
       "      <td>0.50</td>\n",
       "      <td>0.50</td>\n",
       "      <td>0.25</td>\n",
       "      <td>1.0</td>\n",
       "      <td>0.50</td>\n",
       "      <td>0.5</td>\n",
       "      <td>0.25</td>\n",
       "      <td>...</td>\n",
       "      <td>0.50</td>\n",
       "      <td>0.50</td>\n",
       "      <td>0.75</td>\n",
       "      <td>0.00</td>\n",
       "      <td>0.00</td>\n",
       "      <td>0.75</td>\n",
       "      <td>1.0</td>\n",
       "      <td>0.0</td>\n",
       "      <td>0.25</td>\n",
       "      <td>1.00</td>\n",
       "    </tr>\n",
       "  </tbody>\n",
       "</table>\n",
       "<p>5 rows × 312 columns</p>\n",
       "</div>"
      ],
      "text/plain": [
       "    ROW_ID  Time_Period  v496  v495  v494  v493  v492  v491  v490  v489  ...  \\\n",
       "0  1000001          121  0.25  0.75  0.50  0.50   0.0  0.75   0.5  0.25  ...   \n",
       "1  1000002          121  0.75  0.50  0.75  1.00   0.5  0.00   0.0  0.75  ...   \n",
       "2  1000003          121  1.00  0.00  0.00  1.00   1.0  1.00   1.0  1.00  ...   \n",
       "3  1000004          121  0.75  1.00  1.00  0.50   0.0  0.00   0.0  0.50  ...   \n",
       "4  1000005          121  0.25  0.50  0.50  0.25   1.0  0.50   0.5  0.25  ...   \n",
       "\n",
       "   v196  v195  v194  v193  v192  v191  v190  v189  v188  v187  \n",
       "0  0.75  0.75  0.75  1.00  0.75  0.50   0.5   1.0  0.00  0.00  \n",
       "1  0.50  0.50  0.50  0.75  1.00  0.75   0.5   0.5  0.50  0.50  \n",
       "2  0.00  0.00  0.00  0.50  0.25  0.00   0.0   0.5  0.50  0.00  \n",
       "3  0.00  0.00  0.00  0.00  0.25  0.00   0.0   0.0  0.25  0.25  \n",
       "4  0.50  0.50  0.75  0.00  0.00  0.75   1.0   0.0  0.25  1.00  \n",
       "\n",
       "[5 rows x 312 columns]"
      ]
     },
     "execution_count": 2,
     "metadata": {},
     "output_type": "execute_result"
    }
   ],
   "source": [
    "test = pd.read_csv(\"../data/raw/test_rekrutacyjny_dane_walidacyjne.csv\")\n",
    "print('Testing data shape: ', test.shape)\n",
    "test.head()"
   ]
  },
  {
   "cell_type": "code",
   "execution_count": 3,
   "metadata": {},
   "outputs": [
    {
     "name": "stdout",
     "output_type": "stream",
     "text": [
      "Training data shape:  (501808, 313)\n"
     ]
    },
    {
     "data": {
      "text/html": [
       "<div>\n",
       "<style scoped>\n",
       "    .dataframe tbody tr th:only-of-type {\n",
       "        vertical-align: middle;\n",
       "    }\n",
       "\n",
       "    .dataframe tbody tr th {\n",
       "        vertical-align: top;\n",
       "    }\n",
       "\n",
       "    .dataframe thead th {\n",
       "        text-align: right;\n",
       "    }\n",
       "</style>\n",
       "<table border=\"1\" class=\"dataframe\">\n",
       "  <thead>\n",
       "    <tr style=\"text-align: right;\">\n",
       "      <th></th>\n",
       "      <th>ROW_ID</th>\n",
       "      <th>Time_Period</th>\n",
       "      <th>v496</th>\n",
       "      <th>v495</th>\n",
       "      <th>v494</th>\n",
       "      <th>v493</th>\n",
       "      <th>v492</th>\n",
       "      <th>v491</th>\n",
       "      <th>v490</th>\n",
       "      <th>v489</th>\n",
       "      <th>...</th>\n",
       "      <th>v195</th>\n",
       "      <th>v194</th>\n",
       "      <th>v193</th>\n",
       "      <th>v192</th>\n",
       "      <th>v191</th>\n",
       "      <th>v190</th>\n",
       "      <th>v189</th>\n",
       "      <th>v188</th>\n",
       "      <th>v187</th>\n",
       "      <th>target</th>\n",
       "    </tr>\n",
       "  </thead>\n",
       "  <tbody>\n",
       "    <tr>\n",
       "      <th>0</th>\n",
       "      <td>1</td>\n",
       "      <td>1</td>\n",
       "      <td>0.00</td>\n",
       "      <td>0.50</td>\n",
       "      <td>0.25</td>\n",
       "      <td>0.00</td>\n",
       "      <td>0.5</td>\n",
       "      <td>0.25</td>\n",
       "      <td>0.25</td>\n",
       "      <td>0.25</td>\n",
       "      <td>...</td>\n",
       "      <td>1.00</td>\n",
       "      <td>1.00</td>\n",
       "      <td>0.75</td>\n",
       "      <td>0.50</td>\n",
       "      <td>0.75</td>\n",
       "      <td>0.50</td>\n",
       "      <td>1.00</td>\n",
       "      <td>0.50</td>\n",
       "      <td>0.75</td>\n",
       "      <td>0.75</td>\n",
       "    </tr>\n",
       "    <tr>\n",
       "      <th>1</th>\n",
       "      <td>2</td>\n",
       "      <td>1</td>\n",
       "      <td>0.00</td>\n",
       "      <td>0.00</td>\n",
       "      <td>0.00</td>\n",
       "      <td>0.25</td>\n",
       "      <td>0.5</td>\n",
       "      <td>0.00</td>\n",
       "      <td>0.00</td>\n",
       "      <td>0.25</td>\n",
       "      <td>...</td>\n",
       "      <td>1.00</td>\n",
       "      <td>1.00</td>\n",
       "      <td>0.00</td>\n",
       "      <td>0.00</td>\n",
       "      <td>0.75</td>\n",
       "      <td>0.25</td>\n",
       "      <td>0.00</td>\n",
       "      <td>0.25</td>\n",
       "      <td>1.00</td>\n",
       "      <td>0.25</td>\n",
       "    </tr>\n",
       "    <tr>\n",
       "      <th>2</th>\n",
       "      <td>3</td>\n",
       "      <td>1</td>\n",
       "      <td>0.25</td>\n",
       "      <td>0.50</td>\n",
       "      <td>0.25</td>\n",
       "      <td>0.25</td>\n",
       "      <td>1.0</td>\n",
       "      <td>0.75</td>\n",
       "      <td>0.75</td>\n",
       "      <td>0.25</td>\n",
       "      <td>...</td>\n",
       "      <td>0.25</td>\n",
       "      <td>0.50</td>\n",
       "      <td>0.00</td>\n",
       "      <td>0.00</td>\n",
       "      <td>0.50</td>\n",
       "      <td>1.00</td>\n",
       "      <td>0.00</td>\n",
       "      <td>0.25</td>\n",
       "      <td>0.75</td>\n",
       "      <td>0.00</td>\n",
       "    </tr>\n",
       "    <tr>\n",
       "      <th>3</th>\n",
       "      <td>4</td>\n",
       "      <td>1</td>\n",
       "      <td>1.00</td>\n",
       "      <td>0.00</td>\n",
       "      <td>0.00</td>\n",
       "      <td>0.50</td>\n",
       "      <td>0.5</td>\n",
       "      <td>0.25</td>\n",
       "      <td>0.25</td>\n",
       "      <td>0.75</td>\n",
       "      <td>...</td>\n",
       "      <td>1.00</td>\n",
       "      <td>1.00</td>\n",
       "      <td>0.75</td>\n",
       "      <td>0.75</td>\n",
       "      <td>1.00</td>\n",
       "      <td>1.00</td>\n",
       "      <td>0.75</td>\n",
       "      <td>1.00</td>\n",
       "      <td>1.00</td>\n",
       "      <td>0.00</td>\n",
       "    </tr>\n",
       "    <tr>\n",
       "      <th>4</th>\n",
       "      <td>5</td>\n",
       "      <td>1</td>\n",
       "      <td>0.25</td>\n",
       "      <td>0.25</td>\n",
       "      <td>0.25</td>\n",
       "      <td>0.25</td>\n",
       "      <td>0.0</td>\n",
       "      <td>0.25</td>\n",
       "      <td>0.50</td>\n",
       "      <td>0.25</td>\n",
       "      <td>...</td>\n",
       "      <td>0.75</td>\n",
       "      <td>0.75</td>\n",
       "      <td>0.25</td>\n",
       "      <td>0.50</td>\n",
       "      <td>0.75</td>\n",
       "      <td>0.00</td>\n",
       "      <td>0.50</td>\n",
       "      <td>0.25</td>\n",
       "      <td>0.75</td>\n",
       "      <td>0.75</td>\n",
       "    </tr>\n",
       "  </tbody>\n",
       "</table>\n",
       "<p>5 rows × 313 columns</p>\n",
       "</div>"
      ],
      "text/plain": [
       "   ROW_ID  Time_Period  v496  v495  v494  v493  v492  v491  v490  v489  ...  \\\n",
       "0       1            1  0.00  0.50  0.25  0.00   0.5  0.25  0.25  0.25  ...   \n",
       "1       2            1  0.00  0.00  0.00  0.25   0.5  0.00  0.00  0.25  ...   \n",
       "2       3            1  0.25  0.50  0.25  0.25   1.0  0.75  0.75  0.25  ...   \n",
       "3       4            1  1.00  0.00  0.00  0.50   0.5  0.25  0.25  0.75  ...   \n",
       "4       5            1  0.25  0.25  0.25  0.25   0.0  0.25  0.50  0.25  ...   \n",
       "\n",
       "   v195  v194  v193  v192  v191  v190  v189  v188  v187  target  \n",
       "0  1.00  1.00  0.75  0.50  0.75  0.50  1.00  0.50  0.75    0.75  \n",
       "1  1.00  1.00  0.00  0.00  0.75  0.25  0.00  0.25  1.00    0.25  \n",
       "2  0.25  0.50  0.00  0.00  0.50  1.00  0.00  0.25  0.75    0.00  \n",
       "3  1.00  1.00  0.75  0.75  1.00  1.00  0.75  1.00  1.00    0.00  \n",
       "4  0.75  0.75  0.25  0.50  0.75  0.00  0.50  0.25  0.75    0.75  \n",
       "\n",
       "[5 rows x 313 columns]"
      ]
     },
     "execution_count": 3,
     "metadata": {},
     "output_type": "execute_result"
    }
   ],
   "source": [
    "train = pd.read_csv(\"../data/raw/test_rekrytacyjny_dane_uczace.csv\")\n",
    "print('Training data shape: ', train.shape)\n",
    "train.head()"
   ]
  },
  {
   "cell_type": "markdown",
   "metadata": {},
   "source": [
    "## Metrics\n",
    "\n",
    "For this regression task, we will use two standard metrics:\n",
    "- Mean Absolute Error (MAE): Average of the absolute value of the difference between predictions and the true values\n",
    "- Root Mean Squared Error (RMSE): The square root of the average of the squared differences between the predictions and the true values.\n",
    "The mean absolute error is more interpretable, but the root mean squared error penalizes larger errors more heavily. Either one may be appropriate depending on the situation. [Here is a discussion](https://medium.com/human-in-a-machine-world/mae-and-rmse-which-metric-is-better-e60ac3bde13d)."
   ]
  },
  {
   "cell_type": "code",
   "execution_count": 4,
   "metadata": {},
   "outputs": [],
   "source": [
    "# Calculate mae and rmse\n",
    "def evaluate_predictions(predictions, true):\n",
    "    mae = np.mean(abs(predictions - true))\n",
    "    rmse = np.sqrt(np.mean((predictions - true) ** 2))\n",
    "\n",
    "    return mae, rmse"
   ]
  },
  {
   "cell_type": "markdown",
   "metadata": {},
   "source": [
    "### Naive Baseline\n",
    "For a regression task, a simple naive baseline is to guess the median value on the training set for all testing cases. If our machine learning model cannot better this simple baseline, then perhaps we should try a different approach!"
   ]
  },
  {
   "cell_type": "code",
   "execution_count": 5,
   "metadata": {},
   "outputs": [
    {
     "name": "stdout",
     "output_type": "stream",
     "text": [
      "Median Baseline  MAE: 0.2991\n",
      "Median Baseline RMSE: 0.3530\n"
     ]
    }
   ],
   "source": [
    "# Naive baseline is the median\n",
    "median_pred = train[\"target\"].median()\n",
    "median_preds = [median_pred for _ in range(len(train[\"target\"]))]\n",
    "true = train[\"target\"]\n",
    "\n",
    "\n",
    "# Display the naive baseline metrics\n",
    "mb_mae, mb_rmse = evaluate_predictions(median_preds, true)\n",
    "print(f\"Median Baseline  MAE: {mb_mae:.4f}\")\n",
    "print(f\"Median Baseline RMSE: {mb_rmse:.4f}\")"
   ]
  },
  {
   "cell_type": "markdown",
   "metadata": {},
   "source": [
    "### Feature Selection through Feature Importances"
   ]
  },
  {
   "cell_type": "code",
   "execution_count": 6,
   "metadata": {},
   "outputs": [
    {
     "name": "stdout",
     "output_type": "stream",
     "text": [
      "Training set full shape:  (501808, 312)\n",
      "Testing set full shape:  (106895, 312)\n"
     ]
    }
   ],
   "source": [
    "# Need to save the labels because aligning will remove this column\n",
    "train_labels = train[\"target\"]\n",
    "train_ids = train[\"ROW_ID\"]\n",
    "test_ids = test[\"ROW_ID\"]\n",
    "\n",
    "train, test = train.align(test, join=\"inner\", axis=1)\n",
    "\n",
    "print(\"Training set full shape: \", train.shape)\n",
    "print(\"Testing set full shape: \", test.shape)"
   ]
  },
  {
   "cell_type": "code",
   "execution_count": 7,
   "metadata": {},
   "outputs": [],
   "source": [
    "train = train.drop(columns=[\"ROW_ID\"])\n",
    "test = test.drop(columns=[\"ROW_ID\"])"
   ]
  },
  {
   "cell_type": "code",
   "execution_count": 10,
   "metadata": {},
   "outputs": [],
   "source": [
    "def identify_zero_importance_features(train, train_labels, iterations=2):\n",
    "    \"\"\"\n",
    "    Identify zero importance features in a training dataset based on the\n",
    "    feature importances from a gradient boosting model.\n",
    "\n",
    "    Parameters\n",
    "    --------\n",
    "    train : dataframe\n",
    "        Training features\n",
    "\n",
    "    train_labels : np.array\n",
    "        Labels for training data\n",
    "\n",
    "    iterations : integer, default = 2\n",
    "        Number of cross validation splits to use for determining feature importances\n",
    "    \"\"\"\n",
    "\n",
    "    # Initialize an empty array to hold feature importances\n",
    "    feature_importances = np.zeros(train.shape[1])\n",
    "\n",
    "    # Create the model with several hyperparameters\n",
    "    model = lgb.LGBMRegressor(\n",
    "        objective=\"regression\",\n",
    "        n_estimators=10_000,\n",
    "    )\n",
    "\n",
    "    # Fit the model multiple times to avoid overfitting\n",
    "    for i in range(iterations):\n",
    "\n",
    "        # Split into training and validation set\n",
    "        train_features, valid_features, train_y, valid_y = train_test_split(\n",
    "            train, train_labels, test_size=0.25, random_state=i\n",
    "        )\n",
    "\n",
    "        # Train using early stopping\n",
    "        model.fit(\n",
    "            train_features,\n",
    "            train_y,\n",
    "            early_stopping_rounds=100,\n",
    "            eval_set=[(valid_features, valid_y)],\n",
    "            eval_metric=[\"mae\", \"rmse\"],\n",
    "            verbose=200,\n",
    "        )\n",
    "\n",
    "        # Record the feature importances\n",
    "        feature_importances += model.feature_importances_ / iterations\n",
    "\n",
    "    feature_importances = pd.DataFrame(\n",
    "        {\"feature\": list(train.columns), \"importance\": feature_importances}\n",
    "    ).sort_values(\"importance\", ascending=False)\n",
    "\n",
    "    # Find the features with zero importance\n",
    "    zero_features = list(\n",
    "        feature_importances[feature_importances[\"importance\"] == 0.0][\"feature\"]\n",
    "    )\n",
    "    print(f\"\\nThere are {len(zero_features)} features with 0.0 importance\")\n",
    "\n",
    "    return zero_features, feature_importances\n"
   ]
  },
  {
   "cell_type": "code",
   "execution_count": 11,
   "metadata": {},
   "outputs": [
    {
     "name": "stdout",
     "output_type": "stream",
     "text": [
      "Training until validation scores don't improve for 100 rounds\n",
      "Early stopping, best iteration is:\n",
      "[1]\tvalid_0's l1: 0.299542\tvalid_0's rmse: 0.35314\tvalid_0's l2: 0.124708\n",
      "Training until validation scores don't improve for 100 rounds\n",
      "Early stopping, best iteration is:\n",
      "[1]\tvalid_0's l1: 0.299233\tvalid_0's rmse: 0.352904\tvalid_0's l2: 0.124541\n",
      "\n",
      "There are 262 features with 0.0 importance\n"
     ]
    }
   ],
   "source": [
    "zero_features, feature_importances = identify_zero_importance_features(\n",
    "    train, train_labels\n",
    ")\n"
   ]
  },
  {
   "cell_type": "code",
   "execution_count": 12,
   "metadata": {},
   "outputs": [],
   "source": [
    "def plot_feature_importances(df, threshold=0.9):\n",
    "    \"\"\"\n",
    "    Plots 15 most important features and the cumulative importance of features.\n",
    "    Prints the number of features needed to reach threshold cumulative importance.\n",
    "    Parameters\n",
    "    --------\n",
    "    df : dataframe\n",
    "        Dataframe of feature importances. Columns must be feature and importance\n",
    "    threshold : float, default = 0.9\n",
    "        Threshold for prining information about cumulative importances\n",
    "    Return\n",
    "    --------\n",
    "    df : dataframe\n",
    "        Dataframe ordered by feature importances with a normalized column (sums to 1)\n",
    "        and a cumulative importance column\n",
    "    \"\"\"\n",
    "\n",
    "    plt.rcParams[\"font.size\"] = 18\n",
    "\n",
    "    # Sort features according to importance\n",
    "    df = df.sort_values(\"importance\", ascending=False).reset_index()\n",
    "\n",
    "    # Normalize the feature importances to add up to one\n",
    "    df[\"importance_normalized\"] = df[\"importance\"] / df[\"importance\"].sum()\n",
    "    df[\"cumulative_importance\"] = np.cumsum(df[\"importance_normalized\"])\n",
    "\n",
    "    # Make a horizontal bar chart of feature importances\n",
    "    plt.figure(figsize=(10, 6))\n",
    "    ax = plt.subplot()\n",
    "\n",
    "    # Need to reverse the index to plot most important on top\n",
    "    ax.barh(\n",
    "        list(reversed(list(df.index[:15]))),\n",
    "        df[\"importance_normalized\"].head(15),\n",
    "        align=\"center\",\n",
    "        edgecolor=\"k\",\n",
    "    )\n",
    "\n",
    "    # Set the yticks and labels\n",
    "    ax.set_yticks(list(reversed(list(df.index[:15]))))\n",
    "    ax.set_yticklabels(df[\"feature\"].head(15))\n",
    "\n",
    "    # Plot labeling\n",
    "    plt.xlabel(\"Normalized Importance\")\n",
    "    plt.title(\"Feature Importances\")\n",
    "    plt.show()\n",
    "\n",
    "    # Cumulative importance plot\n",
    "    plt.figure(figsize=(8, 6))\n",
    "    plt.plot(list(range(len(df))), df[\"cumulative_importance\"], \"r-\")\n",
    "    plt.xlabel(\"Number of Features\")\n",
    "    plt.ylabel(\"Cumulative Importance\")\n",
    "    plt.title(\"Cumulative Feature Importance\")\n",
    "    plt.show()\n",
    "\n",
    "    importance_index = np.min(np.where(df[\"cumulative_importance\"] > threshold))\n",
    "    print(\n",
    "        \"%d features required for %0.2f of cumulative importance\"\n",
    "        % (importance_index + 1, threshold)\n",
    "    )\n",
    "\n",
    "    return df\n"
   ]
  },
  {
   "cell_type": "code",
   "execution_count": 13,
   "metadata": {},
   "outputs": [
    {
     "data": {
      "image/png": "[encoded data removed]",
      "text/plain": [
       "<Figure size 720x432 with 1 Axes>"
      ]
     },
     "metadata": {},
     "output_type": "display_data"
    },
    {
     "data": {
      "image/png": "[encoded data removed]",
      "text/plain": [
       "<Figure size 576x432 with 1 Axes>"
      ]
     },
     "metadata": {},
     "output_type": "display_data"
    },
    {
     "name": "stdout",
     "output_type": "stream",
     "text": [
      "46 features required for 0.95 of cumulative importance\n"
     ]
    }
   ],
   "source": [
    "norm_feature_importances = plot_feature_importances(feature_importances, threshold=0.95)"
   ]
  },
  {
   "cell_type": "code",
   "execution_count": 14,
   "metadata": {},
   "outputs": [],
   "source": [
    "# Threshold for cumulative importance\n",
    "threshold = 0.95\n",
    "\n",
    "# Extract the features to keep\n",
    "features_to_keep = list(\n",
    "    norm_feature_importances[\n",
    "        norm_feature_importances[\"cumulative_importance\"] < threshold\n",
    "    ][\"feature\"]\n",
    ")\n",
    "\n",
    "# Create new datasets with smaller features\n",
    "train_small = train[features_to_keep]\n",
    "test_small = test[features_to_keep]"
   ]
  },
  {
   "cell_type": "code",
   "execution_count": 15,
   "metadata": {},
   "outputs": [],
   "source": [
    "train_small[\"target\"] = train_labels\n",
    "train_small[\"ROW_ID\"] = train_ids"
   ]
  },
  {
   "cell_type": "code",
   "execution_count": 16,
   "metadata": {},
   "outputs": [],
   "source": [
    "test_small[\"ROW_ID\"] = test_ids"
   ]
  },
  {
   "cell_type": "code",
   "execution_count": 15,
   "metadata": {},
   "outputs": [],
   "source": [
    "# train_small.to_csv('../data/processed/train_small.csv', index=False)\n",
    "# test_small.to_csv('../data/processed/test_small.csv', index=False)"
   ]
  },
  {
   "cell_type": "markdown",
   "metadata": {},
   "source": [
    "### Automated Feature Engineering"
   ]
  },
  {
   "cell_type": "code",
   "execution_count": 17,
   "metadata": {},
   "outputs": [],
   "source": [
    "# Make an entityset\n",
    "es = ft.EntitySet(id=\"records\")\n",
    "\n",
    "\n",
    "# Entities with a unique index\n",
    "es = es.entity_from_dataframe(entity_id=\"train\", dataframe=train_small, index=\"ROW_ID\")\n",
    "\n",
    "es = es.entity_from_dataframe(entity_id=\"test\", dataframe=test_small, index=\"ROW_ID\")"
   ]
  },
  {
   "cell_type": "code",
   "execution_count": 18,
   "metadata": {},
   "outputs": [
    {
     "name": "stdout",
     "output_type": "stream",
     "text": [
      "Built 322 features\n",
      "Elapsed: 00:11 | Progress: 100%|██████████\n"
     ]
    }
   ],
   "source": [
    "# Run and create the features\n",
    "feature_matrix, feature_names = ft.dfs(\n",
    "    entityset=es,\n",
    "    target_entity=\"train\",\n",
    "    agg_primitives=[\"mean\", \"max\", \"min\", \"count\", \"sum\"],\n",
    "    trans_primitives=[\"cum_sum\", \"cum_mean\", \"percentile\"],\n",
    "    where_primitives=[\"mean\", \"sum\"],\n",
    "    max_depth=2,\n",
    "    features_only=False,\n",
    "    verbose=True,\n",
    "    chunk_size=len(train),\n",
    "    ignore_entities=[\"test\"],\n",
    ")"
   ]
  },
  {
   "cell_type": "code",
   "execution_count": 19,
   "metadata": {},
   "outputs": [
    {
     "name": "stdout",
     "output_type": "stream",
     "text": [
      "Built 315 features\n",
      "Elapsed: 00:02 | Progress: 100%|██████████\n"
     ]
    }
   ],
   "source": [
    "# Run and create the features\n",
    "feature_matrix_test, feature_names_test = ft.dfs(\n",
    "    entityset=es,\n",
    "    target_entity=\"test\",\n",
    "    agg_primitives=[\"mean\", \"max\", \"min\", \"count\", \"sum\"],\n",
    "    trans_primitives=[\"cum_sum\", \"cum_mean\", \"percentile\"],\n",
    "    where_primitives=[\"mean\", \"sum\"],\n",
    "    max_depth=2,\n",
    "    features_only=False,\n",
    "    verbose=True,\n",
    "    chunk_size=len(test),\n",
    "    ignore_entities=[\"train\"],\n",
    ")"
   ]
  },
  {
   "cell_type": "code",
   "execution_count": 20,
   "metadata": {},
   "outputs": [
    {
     "data": {
      "text/plain": [
       "[<Feature: PERCENTILE(CUM_SUM(v365))>,\n",
       " <Feature: CUM_SUM(v359)>,\n",
       " <Feature: PERCENTILE(CUM_MEAN(v454))>,\n",
       " <Feature: CUM_SUM(v305)>,\n",
       " <Feature: CUM_MEAN(v398)>,\n",
       " <Feature: PERCENTILE(v262)>,\n",
       " <Feature: v262>,\n",
       " <Feature: PERCENTILE(v396)>,\n",
       " <Feature: PERCENTILE(v219)>,\n",
       " <Feature: CUM_MEAN(v443)>]"
      ]
     },
     "execution_count": 20,
     "metadata": {},
     "output_type": "execute_result"
    }
   ],
   "source": [
    "random.sample(feature_names, 10)"
   ]
  },
  {
   "cell_type": "code",
   "execution_count": 21,
   "metadata": {},
   "outputs": [
    {
     "name": "stdout",
     "output_type": "stream",
     "text": [
      "Removed 0 features from training features\n",
      "Removed 0 features from testing features\n"
     ]
    }
   ],
   "source": [
    "# Remove low information features\n",
    "feature_matrix2 = selection.remove_low_information_features(feature_matrix)\n",
    "print(\n",
    "    \"Removed %d features from training features\"\n",
    "    % (feature_matrix.shape[1] - feature_matrix2.shape[1])\n",
    ")\n",
    "\n",
    "feature_matrix_test2 = selection.remove_low_information_features(feature_matrix_test)\n",
    "print(\n",
    "    \"Removed %d features from testing features\"\n",
    "    % (feature_matrix_test.shape[1] - feature_matrix_test2.shape[1])\n",
    ")\n"
   ]
  },
  {
   "cell_type": "code",
   "execution_count": 22,
   "metadata": {},
   "outputs": [
    {
     "name": "stdout",
     "output_type": "stream",
     "text": [
      "Final training shape:  (501808, 316)\n",
      "Final testing shape:  (106895, 315)\n"
     ]
    }
   ],
   "source": [
    "train_labels = feature_matrix[\"target\"]\n",
    "feature_matrix, feature_matrix_test = feature_matrix2.align(\n",
    "    feature_matrix_test2, join=\"inner\", axis=1\n",
    ")\n",
    "feature_matrix[\"target\"] = train_labels\n",
    "\n",
    "print(\"Final training shape: \", feature_matrix.shape)\n",
    "print(\"Final testing shape: \", feature_matrix_test.shape)\n",
    "\n",
    "feature_matrix.reset_index(level=0, inplace=True)\n",
    "feature_matrix_test.reset_index(level=0, inplace=True)"
   ]
  },
  {
   "cell_type": "markdown",
   "metadata": {},
   "source": [
    "## Reduce Memory"
   ]
  },
  {
   "cell_type": "code",
   "execution_count": 23,
   "metadata": {},
   "outputs": [],
   "source": [
    "# reduce memory\n",
    "def reduce_mem_usage(df, verbose=True):\n",
    "    numerics = [\"int16\", \"int32\", \"int64\", \"float16\", \"float32\", \"float64\"]\n",
    "    start_mem = df.memory_usage().sum() / 1024 ** 2\n",
    "    for col in df.columns:\n",
    "        col_type = df[col].dtypes\n",
    "        if col_type in numerics:\n",
    "            c_min = df[col].min()\n",
    "            c_max = df[col].max()\n",
    "            if str(col_type)[:3] == \"int\":\n",
    "                if c_min > np.iinfo(np.int8).min and c_max < np.iinfo(np.int8).max:\n",
    "                    df[col] = df[col].astype(np.int8)\n",
    "                elif c_min > np.iinfo(np.int16).min and c_max < np.iinfo(np.int16).max:\n",
    "                    df[col] = df[col].astype(np.int16)\n",
    "                elif c_min > np.iinfo(np.int32).min and c_max < np.iinfo(np.int32).max:\n",
    "                    df[col] = df[col].astype(np.int32)\n",
    "                elif c_min > np.iinfo(np.int64).min and c_max < np.iinfo(np.int64).max:\n",
    "                    df[col] = df[col].astype(np.int64)\n",
    "            else:\n",
    "                if (\n",
    "                    c_min > np.finfo(np.float16).min\n",
    "                    and c_max < np.finfo(np.float16).max\n",
    "                ):\n",
    "                    df[col] = df[col].astype(np.float16)\n",
    "                elif (\n",
    "                    c_min > np.finfo(np.float32).min\n",
    "                    and c_max < np.finfo(np.float32).max\n",
    "                ):\n",
    "                    df[col] = df[col].astype(np.float32)\n",
    "                else:\n",
    "                    df[col] = df[col].astype(np.float64)\n",
    "\n",
    "    end_mem = df.memory_usage().sum() / 1024 ** 2\n",
    "    print(f\"Memory usage after optimization is: {end_mem:.2f} MB\")\n",
    "    print(f\"Decreased by {100 * (start_mem - end_mem) / start_mem:.1f}%\")\n",
    "\n",
    "    return df"
   ]
  },
  {
   "cell_type": "code",
   "execution_count": 24,
   "metadata": {},
   "outputs": [
    {
     "name": "stdout",
     "output_type": "stream",
     "text": [
      "Memory usage after optimization is: 390.51 MB\n",
      "Decreased by 67.8%\n"
     ]
    }
   ],
   "source": [
    "feature_matrix = reduce_mem_usage(feature_matrix)"
   ]
  },
  {
   "cell_type": "code",
   "execution_count": 27,
   "metadata": {},
   "outputs": [
    {
     "name": "stdout",
     "output_type": "stream",
     "text": [
      "Memory usage after optimization is: 64.63 MB\n",
      "Decreased by 74.9%\n"
     ]
    }
   ],
   "source": [
    "feature_matrix_test = reduce_mem_usage(feature_matrix_test)"
   ]
  },
  {
   "cell_type": "code",
   "execution_count": 28,
   "metadata": {},
   "outputs": [],
   "source": [
    "# feature_matrix.to_csv('../data/processed/feature_matrix.csv', index=False)\n",
    "# feature_matrix_test.to_csv('../data/processed/feature_matrix_test.csv', index=False)"
   ]
  },
  {
   "cell_type": "markdown",
   "metadata": {},
   "source": [
    "### Remove Collinear Variables\n",
    "Collinear variables are those which are highly correlated with one another. These can decrease the model's availablility to learn, decrease model interpretability, and decrease generalization performance on the test set. Clearly, these are three things we want to increase, so removing collinear variables is a useful step. We will establish an admittedly arbitrary threshold for removing collinear variables, and then remove one out of any pair of variables that is above that threshold.\n",
    "\n",
    "The code below identifies the highly correlated variables based on the absolute magnitude of the Pearson correlation coefficient being greater than 0.9."
   ]
  },
  {
   "cell_type": "code",
   "execution_count": 32,
   "metadata": {},
   "outputs": [
    {
     "name": "stdout",
     "output_type": "stream",
     "text": [
      "CPU times: user 1min 17s, sys: 414 ms, total: 1min 17s\n",
      "Wall time: 1min 17s\n"
     ]
    },
    {
     "data": {
      "text/html": [
       "<div>\n",
       "<style scoped>\n",
       "    .dataframe tbody tr th:only-of-type {\n",
       "        vertical-align: middle;\n",
       "    }\n",
       "\n",
       "    .dataframe tbody tr th {\n",
       "        vertical-align: top;\n",
       "    }\n",
       "\n",
       "    .dataframe thead th {\n",
       "        text-align: right;\n",
       "    }\n",
       "</style>\n",
       "<table border=\"1\" class=\"dataframe\">\n",
       "  <thead>\n",
       "    <tr style=\"text-align: right;\">\n",
       "      <th></th>\n",
       "      <th>ROW_ID</th>\n",
       "      <th>v354</th>\n",
       "      <th>v350</th>\n",
       "      <th>v380</th>\n",
       "      <th>v219</th>\n",
       "      <th>v445</th>\n",
       "      <th>v422</th>\n",
       "      <th>v297</th>\n",
       "      <th>v374</th>\n",
       "      <th>v196</th>\n",
       "      <th>...</th>\n",
       "      <th>PERCENTILE(CUM_MEAN(v388))</th>\n",
       "      <th>PERCENTILE(CUM_MEAN(v409))</th>\n",
       "      <th>PERCENTILE(CUM_MEAN(v416))</th>\n",
       "      <th>PERCENTILE(CUM_SUM(v445))</th>\n",
       "      <th>PERCENTILE(CUM_MEAN(v407))</th>\n",
       "      <th>PERCENTILE(CUM_MEAN(v396))</th>\n",
       "      <th>PERCENTILE(CUM_MEAN(v428))</th>\n",
       "      <th>PERCENTILE(CUM_SUM(v467))</th>\n",
       "      <th>PERCENTILE(CUM_SUM(v482))</th>\n",
       "      <th>target</th>\n",
       "    </tr>\n",
       "  </thead>\n",
       "  <tbody>\n",
       "    <tr>\n",
       "      <th>ROW_ID</th>\n",
       "      <td>1.000000</td>\n",
       "      <td>0.000008</td>\n",
       "      <td>0.000004</td>\n",
       "      <td>0.000029</td>\n",
       "      <td>0.000007</td>\n",
       "      <td>0.000036</td>\n",
       "      <td>0.000014</td>\n",
       "      <td>0.000038</td>\n",
       "      <td>0.000008</td>\n",
       "      <td>9.133098e-07</td>\n",
       "      <td>...</td>\n",
       "      <td>0.020953</td>\n",
       "      <td>0.180263</td>\n",
       "      <td>0.066600</td>\n",
       "      <td>1.000000</td>\n",
       "      <td>0.160114</td>\n",
       "      <td>0.146258</td>\n",
       "      <td>0.126715</td>\n",
       "      <td>1.000000</td>\n",
       "      <td>1.000000</td>\n",
       "      <td>0.000033</td>\n",
       "    </tr>\n",
       "    <tr>\n",
       "      <th>v354</th>\n",
       "      <td>0.000008</td>\n",
       "      <td>1.000000</td>\n",
       "      <td>0.536020</td>\n",
       "      <td>0.002650</td>\n",
       "      <td>0.058898</td>\n",
       "      <td>0.238234</td>\n",
       "      <td>0.449110</td>\n",
       "      <td>0.055346</td>\n",
       "      <td>0.026525</td>\n",
       "      <td>1.383602e-01</td>\n",
       "      <td>...</td>\n",
       "      <td>0.002313</td>\n",
       "      <td>0.006655</td>\n",
       "      <td>0.000562</td>\n",
       "      <td>0.000008</td>\n",
       "      <td>0.000903</td>\n",
       "      <td>0.002303</td>\n",
       "      <td>0.000436</td>\n",
       "      <td>0.000008</td>\n",
       "      <td>0.000008</td>\n",
       "      <td>0.015362</td>\n",
       "    </tr>\n",
       "    <tr>\n",
       "      <th>v350</th>\n",
       "      <td>0.000004</td>\n",
       "      <td>0.536020</td>\n",
       "      <td>1.000000</td>\n",
       "      <td>0.147057</td>\n",
       "      <td>0.117614</td>\n",
       "      <td>0.260023</td>\n",
       "      <td>0.434379</td>\n",
       "      <td>0.206433</td>\n",
       "      <td>0.094235</td>\n",
       "      <td>9.465684e-02</td>\n",
       "      <td>...</td>\n",
       "      <td>0.000682</td>\n",
       "      <td>0.005981</td>\n",
       "      <td>0.001017</td>\n",
       "      <td>0.000002</td>\n",
       "      <td>0.000227</td>\n",
       "      <td>0.001000</td>\n",
       "      <td>0.001935</td>\n",
       "      <td>0.000002</td>\n",
       "      <td>0.000003</td>\n",
       "      <td>0.013104</td>\n",
       "    </tr>\n",
       "    <tr>\n",
       "      <th>v380</th>\n",
       "      <td>0.000029</td>\n",
       "      <td>0.002650</td>\n",
       "      <td>0.147057</td>\n",
       "      <td>1.000000</td>\n",
       "      <td>0.270684</td>\n",
       "      <td>0.111419</td>\n",
       "      <td>0.010864</td>\n",
       "      <td>0.272206</td>\n",
       "      <td>0.043968</td>\n",
       "      <td>3.078604e-01</td>\n",
       "      <td>...</td>\n",
       "      <td>0.000237</td>\n",
       "      <td>0.001582</td>\n",
       "      <td>0.001139</td>\n",
       "      <td>0.000028</td>\n",
       "      <td>0.000079</td>\n",
       "      <td>0.018208</td>\n",
       "      <td>0.001152</td>\n",
       "      <td>0.000028</td>\n",
       "      <td>0.000029</td>\n",
       "      <td>0.008054</td>\n",
       "    </tr>\n",
       "    <tr>\n",
       "      <th>v219</th>\n",
       "      <td>0.000007</td>\n",
       "      <td>0.058898</td>\n",
       "      <td>0.117614</td>\n",
       "      <td>0.270684</td>\n",
       "      <td>1.000000</td>\n",
       "      <td>0.102549</td>\n",
       "      <td>0.099710</td>\n",
       "      <td>0.122056</td>\n",
       "      <td>0.059284</td>\n",
       "      <td>1.512696e-01</td>\n",
       "      <td>...</td>\n",
       "      <td>0.000053</td>\n",
       "      <td>0.002215</td>\n",
       "      <td>0.000557</td>\n",
       "      <td>0.000006</td>\n",
       "      <td>0.000979</td>\n",
       "      <td>0.003981</td>\n",
       "      <td>0.002286</td>\n",
       "      <td>0.000006</td>\n",
       "      <td>0.000006</td>\n",
       "      <td>0.000761</td>\n",
       "    </tr>\n",
       "  </tbody>\n",
       "</table>\n",
       "<p>5 rows × 317 columns</p>\n",
       "</div>"
      ],
      "text/plain": [
       "          ROW_ID      v354      v350      v380      v219      v445      v422  \\\n",
       "ROW_ID  1.000000  0.000008  0.000004  0.000029  0.000007  0.000036  0.000014   \n",
       "v354    0.000008  1.000000  0.536020  0.002650  0.058898  0.238234  0.449110   \n",
       "v350    0.000004  0.536020  1.000000  0.147057  0.117614  0.260023  0.434379   \n",
       "v380    0.000029  0.002650  0.147057  1.000000  0.270684  0.111419  0.010864   \n",
       "v219    0.000007  0.058898  0.117614  0.270684  1.000000  0.102549  0.099710   \n",
       "\n",
       "            v297      v374          v196  ...  PERCENTILE(CUM_MEAN(v388))  \\\n",
       "ROW_ID  0.000038  0.000008  9.133098e-07  ...                    0.020953   \n",
       "v354    0.055346  0.026525  1.383602e-01  ...                    0.002313   \n",
       "v350    0.206433  0.094235  9.465684e-02  ...                    0.000682   \n",
       "v380    0.272206  0.043968  3.078604e-01  ...                    0.000237   \n",
       "v219    0.122056  0.059284  1.512696e-01  ...                    0.000053   \n",
       "\n",
       "        PERCENTILE(CUM_MEAN(v409))  PERCENTILE(CUM_MEAN(v416))  \\\n",
       "ROW_ID                    0.180263                    0.066600   \n",
       "v354                      0.006655                    0.000562   \n",
       "v350                      0.005981                    0.001017   \n",
       "v380                      0.001582                    0.001139   \n",
       "v219                      0.002215                    0.000557   \n",
       "\n",
       "        PERCENTILE(CUM_SUM(v445))  PERCENTILE(CUM_MEAN(v407))  \\\n",
       "ROW_ID                   1.000000                    0.160114   \n",
       "v354                     0.000008                    0.000903   \n",
       "v350                     0.000002                    0.000227   \n",
       "v380                     0.000028                    0.000079   \n",
       "v219                     0.000006                    0.000979   \n",
       "\n",
       "        PERCENTILE(CUM_MEAN(v396))  PERCENTILE(CUM_MEAN(v428))  \\\n",
       "ROW_ID                    0.146258                    0.126715   \n",
       "v354                      0.002303                    0.000436   \n",
       "v350                      0.001000                    0.001935   \n",
       "v380                      0.018208                    0.001152   \n",
       "v219                      0.003981                    0.002286   \n",
       "\n",
       "        PERCENTILE(CUM_SUM(v467))  PERCENTILE(CUM_SUM(v482))    target  \n",
       "ROW_ID                   1.000000                   1.000000  0.000033  \n",
       "v354                     0.000008                   0.000008  0.015362  \n",
       "v350                     0.000002                   0.000003  0.013104  \n",
       "v380                     0.000028                   0.000029  0.008054  \n",
       "v219                     0.000006                   0.000006  0.000761  \n",
       "\n",
       "[5 rows x 317 columns]"
      ]
     },
     "execution_count": 32,
     "metadata": {},
     "output_type": "execute_result"
    }
   ],
   "source": [
    "%%time\n",
    "\n",
    "# Threshold for removing correlated variables\n",
    "threshold = 0.9\n",
    "\n",
    "# Absolute value correlation matrix\n",
    "corr_matrix = feature_matrix.corr().abs()\n",
    "corr_matrix.head()"
   ]
  },
  {
   "cell_type": "code",
   "execution_count": 33,
   "metadata": {},
   "outputs": [
    {
     "data": {
      "text/html": [
       "<div>\n",
       "<style scoped>\n",
       "    .dataframe tbody tr th:only-of-type {\n",
       "        vertical-align: middle;\n",
       "    }\n",
       "\n",
       "    .dataframe tbody tr th {\n",
       "        vertical-align: top;\n",
       "    }\n",
       "\n",
       "    .dataframe thead th {\n",
       "        text-align: right;\n",
       "    }\n",
       "</style>\n",
       "<table border=\"1\" class=\"dataframe\">\n",
       "  <thead>\n",
       "    <tr style=\"text-align: right;\">\n",
       "      <th></th>\n",
       "      <th>ROW_ID</th>\n",
       "      <th>v354</th>\n",
       "      <th>v350</th>\n",
       "      <th>v380</th>\n",
       "      <th>v219</th>\n",
       "      <th>v445</th>\n",
       "      <th>v422</th>\n",
       "      <th>v297</th>\n",
       "      <th>v374</th>\n",
       "      <th>v196</th>\n",
       "      <th>...</th>\n",
       "      <th>PERCENTILE(CUM_MEAN(v388))</th>\n",
       "      <th>PERCENTILE(CUM_MEAN(v409))</th>\n",
       "      <th>PERCENTILE(CUM_MEAN(v416))</th>\n",
       "      <th>PERCENTILE(CUM_SUM(v445))</th>\n",
       "      <th>PERCENTILE(CUM_MEAN(v407))</th>\n",
       "      <th>PERCENTILE(CUM_MEAN(v396))</th>\n",
       "      <th>PERCENTILE(CUM_MEAN(v428))</th>\n",
       "      <th>PERCENTILE(CUM_SUM(v467))</th>\n",
       "      <th>PERCENTILE(CUM_SUM(v482))</th>\n",
       "      <th>target</th>\n",
       "    </tr>\n",
       "  </thead>\n",
       "  <tbody>\n",
       "    <tr>\n",
       "      <th>ROW_ID</th>\n",
       "      <td>NaN</td>\n",
       "      <td>0.000008</td>\n",
       "      <td>0.000004</td>\n",
       "      <td>0.000029</td>\n",
       "      <td>0.000007</td>\n",
       "      <td>0.000036</td>\n",
       "      <td>0.000014</td>\n",
       "      <td>0.000038</td>\n",
       "      <td>0.000008</td>\n",
       "      <td>9.133098e-07</td>\n",
       "      <td>...</td>\n",
       "      <td>0.020953</td>\n",
       "      <td>0.180263</td>\n",
       "      <td>0.066600</td>\n",
       "      <td>1.000000</td>\n",
       "      <td>0.160114</td>\n",
       "      <td>0.146258</td>\n",
       "      <td>0.126715</td>\n",
       "      <td>1.000000</td>\n",
       "      <td>1.000000</td>\n",
       "      <td>0.000033</td>\n",
       "    </tr>\n",
       "    <tr>\n",
       "      <th>v354</th>\n",
       "      <td>NaN</td>\n",
       "      <td>NaN</td>\n",
       "      <td>0.536020</td>\n",
       "      <td>0.002650</td>\n",
       "      <td>0.058898</td>\n",
       "      <td>0.238234</td>\n",
       "      <td>0.449110</td>\n",
       "      <td>0.055346</td>\n",
       "      <td>0.026525</td>\n",
       "      <td>1.383602e-01</td>\n",
       "      <td>...</td>\n",
       "      <td>0.002313</td>\n",
       "      <td>0.006655</td>\n",
       "      <td>0.000562</td>\n",
       "      <td>0.000008</td>\n",
       "      <td>0.000903</td>\n",
       "      <td>0.002303</td>\n",
       "      <td>0.000436</td>\n",
       "      <td>0.000008</td>\n",
       "      <td>0.000008</td>\n",
       "      <td>0.015362</td>\n",
       "    </tr>\n",
       "    <tr>\n",
       "      <th>v350</th>\n",
       "      <td>NaN</td>\n",
       "      <td>NaN</td>\n",
       "      <td>NaN</td>\n",
       "      <td>0.147057</td>\n",
       "      <td>0.117614</td>\n",
       "      <td>0.260023</td>\n",
       "      <td>0.434379</td>\n",
       "      <td>0.206433</td>\n",
       "      <td>0.094235</td>\n",
       "      <td>9.465684e-02</td>\n",
       "      <td>...</td>\n",
       "      <td>0.000682</td>\n",
       "      <td>0.005981</td>\n",
       "      <td>0.001017</td>\n",
       "      <td>0.000002</td>\n",
       "      <td>0.000227</td>\n",
       "      <td>0.001000</td>\n",
       "      <td>0.001935</td>\n",
       "      <td>0.000002</td>\n",
       "      <td>0.000003</td>\n",
       "      <td>0.013104</td>\n",
       "    </tr>\n",
       "    <tr>\n",
       "      <th>v380</th>\n",
       "      <td>NaN</td>\n",
       "      <td>NaN</td>\n",
       "      <td>NaN</td>\n",
       "      <td>NaN</td>\n",
       "      <td>0.270684</td>\n",
       "      <td>0.111419</td>\n",
       "      <td>0.010864</td>\n",
       "      <td>0.272206</td>\n",
       "      <td>0.043968</td>\n",
       "      <td>3.078604e-01</td>\n",
       "      <td>...</td>\n",
       "      <td>0.000237</td>\n",
       "      <td>0.001582</td>\n",
       "      <td>0.001139</td>\n",
       "      <td>0.000028</td>\n",
       "      <td>0.000079</td>\n",
       "      <td>0.018208</td>\n",
       "      <td>0.001152</td>\n",
       "      <td>0.000028</td>\n",
       "      <td>0.000029</td>\n",
       "      <td>0.008054</td>\n",
       "    </tr>\n",
       "    <tr>\n",
       "      <th>v219</th>\n",
       "      <td>NaN</td>\n",
       "      <td>NaN</td>\n",
       "      <td>NaN</td>\n",
       "      <td>NaN</td>\n",
       "      <td>NaN</td>\n",
       "      <td>0.102549</td>\n",
       "      <td>0.099710</td>\n",
       "      <td>0.122056</td>\n",
       "      <td>0.059284</td>\n",
       "      <td>1.512696e-01</td>\n",
       "      <td>...</td>\n",
       "      <td>0.000053</td>\n",
       "      <td>0.002215</td>\n",
       "      <td>0.000557</td>\n",
       "      <td>0.000006</td>\n",
       "      <td>0.000979</td>\n",
       "      <td>0.003981</td>\n",
       "      <td>0.002286</td>\n",
       "      <td>0.000006</td>\n",
       "      <td>0.000006</td>\n",
       "      <td>0.000761</td>\n",
       "    </tr>\n",
       "  </tbody>\n",
       "</table>\n",
       "<p>5 rows × 317 columns</p>\n",
       "</div>"
      ],
      "text/plain": [
       "        ROW_ID      v354      v350      v380      v219      v445      v422  \\\n",
       "ROW_ID     NaN  0.000008  0.000004  0.000029  0.000007  0.000036  0.000014   \n",
       "v354       NaN       NaN  0.536020  0.002650  0.058898  0.238234  0.449110   \n",
       "v350       NaN       NaN       NaN  0.147057  0.117614  0.260023  0.434379   \n",
       "v380       NaN       NaN       NaN       NaN  0.270684  0.111419  0.010864   \n",
       "v219       NaN       NaN       NaN       NaN       NaN  0.102549  0.099710   \n",
       "\n",
       "            v297      v374          v196  ...  PERCENTILE(CUM_MEAN(v388))  \\\n",
       "ROW_ID  0.000038  0.000008  9.133098e-07  ...                    0.020953   \n",
       "v354    0.055346  0.026525  1.383602e-01  ...                    0.002313   \n",
       "v350    0.206433  0.094235  9.465684e-02  ...                    0.000682   \n",
       "v380    0.272206  0.043968  3.078604e-01  ...                    0.000237   \n",
       "v219    0.122056  0.059284  1.512696e-01  ...                    0.000053   \n",
       "\n",
       "        PERCENTILE(CUM_MEAN(v409))  PERCENTILE(CUM_MEAN(v416))  \\\n",
       "ROW_ID                    0.180263                    0.066600   \n",
       "v354                      0.006655                    0.000562   \n",
       "v350                      0.005981                    0.001017   \n",
       "v380                      0.001582                    0.001139   \n",
       "v219                      0.002215                    0.000557   \n",
       "\n",
       "        PERCENTILE(CUM_SUM(v445))  PERCENTILE(CUM_MEAN(v407))  \\\n",
       "ROW_ID                   1.000000                    0.160114   \n",
       "v354                     0.000008                    0.000903   \n",
       "v350                     0.000002                    0.000227   \n",
       "v380                     0.000028                    0.000079   \n",
       "v219                     0.000006                    0.000979   \n",
       "\n",
       "        PERCENTILE(CUM_MEAN(v396))  PERCENTILE(CUM_MEAN(v428))  \\\n",
       "ROW_ID                    0.146258                    0.126715   \n",
       "v354                      0.002303                    0.000436   \n",
       "v350                      0.001000                    0.001935   \n",
       "v380                      0.018208                    0.001152   \n",
       "v219                      0.003981                    0.002286   \n",
       "\n",
       "        PERCENTILE(CUM_SUM(v467))  PERCENTILE(CUM_SUM(v482))    target  \n",
       "ROW_ID                   1.000000                   1.000000  0.000033  \n",
       "v354                     0.000008                   0.000008  0.015362  \n",
       "v350                     0.000002                   0.000003  0.013104  \n",
       "v380                     0.000028                   0.000029  0.008054  \n",
       "v219                     0.000006                   0.000006  0.000761  \n",
       "\n",
       "[5 rows x 317 columns]"
      ]
     },
     "execution_count": 33,
     "metadata": {},
     "output_type": "execute_result"
    }
   ],
   "source": [
    "# Upper triangle of correlations\n",
    "upper = corr_matrix.where(np.triu(np.ones(corr_matrix.shape), k=1).astype(np.bool))\n",
    "upper.head()"
   ]
  },
  {
   "cell_type": "code",
   "execution_count": 34,
   "metadata": {},
   "outputs": [
    {
     "name": "stdout",
     "output_type": "stream",
     "text": [
      "There are 194 columns to remove.\n"
     ]
    }
   ],
   "source": [
    "# Select columns with correlations above threshold\n",
    "to_drop = [column for column in upper.columns if any(upper[column] > threshold)]\n",
    "\n",
    "print(f'There are {len(to_drop)} columns to remove.')"
   ]
  },
  {
   "cell_type": "code",
   "execution_count": 35,
   "metadata": {},
   "outputs": [
    {
     "name": "stdout",
     "output_type": "stream",
     "text": [
      "Training shape:  (501808, 123)\n",
      "Testing shape:  (106895, 122)\n"
     ]
    }
   ],
   "source": [
    "feature_matrix = feature_matrix.drop(columns=to_drop)\n",
    "feature_matrix_test = feature_matrix_test.drop(columns=to_drop)\n",
    "\n",
    "print('Training shape: ', feature_matrix.shape)\n",
    "print('Testing shape: ', feature_matrix_test.shape)"
   ]
  },
  {
   "cell_type": "code",
   "execution_count": 39,
   "metadata": {},
   "outputs": [],
   "source": [
    "# feature_matrix.to_csv('../data/processed/fm_wo_collinear.csv', index=False)"
   ]
  },
  {
   "cell_type": "code",
   "execution_count": 40,
   "metadata": {},
   "outputs": [],
   "source": [
    "# feature_matrix_test.to_csv('../data/processed/fm_test_wo_collinear.csv', index=False)"
   ]
  },
  {
   "cell_type": "markdown",
   "metadata": {},
   "source": [
    "## Automated Hyperparameter Tuning"
   ]
  },
  {
   "cell_type": "code",
   "execution_count": 41,
   "metadata": {},
   "outputs": [],
   "source": [
    "# Create a new file and open a connection\n",
    "OUT_FILE = \"../reports/bayes_test.csv\"\n",
    "of_connection = open(OUT_FILE, \"w\")\n",
    "writer = csv.writer(of_connection)\n",
    "\n",
    "ITERATION = 0\n",
    "\n",
    "# Write column names\n",
    "headers = [\"loss\", \"hyperparameters\", \"iteration\", \"runtime\", \"score\"]\n",
    "writer.writerow(headers)\n",
    "of_connection.close()"
   ]
  },
  {
   "cell_type": "code",
   "execution_count": 42,
   "metadata": {},
   "outputs": [],
   "source": [
    "# Governing choices for search\n",
    "N_FOLDS = 5\n",
    "MAX_EVALS = 5"
   ]
  },
  {
   "cell_type": "code",
   "execution_count": 43,
   "metadata": {},
   "outputs": [],
   "source": [
    "features = pd.read_csv(\"../data/processed/fm_wo_collinear.csv\")"
   ]
  },
  {
   "cell_type": "code",
   "execution_count": 44,
   "metadata": {},
   "outputs": [
    {
     "name": "stdout",
     "output_type": "stream",
     "text": [
      "Train shape:  (10000, 121)\n",
      "Test shape:  (6000, 121)\n"
     ]
    },
    {
     "data": {
      "text/html": [
       "<div>\n",
       "<style scoped>\n",
       "    .dataframe tbody tr th:only-of-type {\n",
       "        vertical-align: middle;\n",
       "    }\n",
       "\n",
       "    .dataframe tbody tr th {\n",
       "        vertical-align: top;\n",
       "    }\n",
       "\n",
       "    .dataframe thead th {\n",
       "        text-align: right;\n",
       "    }\n",
       "</style>\n",
       "<table border=\"1\" class=\"dataframe\">\n",
       "  <thead>\n",
       "    <tr style=\"text-align: right;\">\n",
       "      <th></th>\n",
       "      <th>v354</th>\n",
       "      <th>v350</th>\n",
       "      <th>v380</th>\n",
       "      <th>v219</th>\n",
       "      <th>v445</th>\n",
       "      <th>v422</th>\n",
       "      <th>v297</th>\n",
       "      <th>v374</th>\n",
       "      <th>v196</th>\n",
       "      <th>v416</th>\n",
       "      <th>...</th>\n",
       "      <th>PERCENTILE(CUM_MEAN(v191))</th>\n",
       "      <th>PERCENTILE(CUM_MEAN(v395))</th>\n",
       "      <th>PERCENTILE(CUM_MEAN(v467))</th>\n",
       "      <th>PERCENTILE(CUM_MEAN(v262))</th>\n",
       "      <th>PERCENTILE(CUM_MEAN(v350))</th>\n",
       "      <th>PERCENTILE(CUM_MEAN(v388))</th>\n",
       "      <th>PERCENTILE(CUM_MEAN(v416))</th>\n",
       "      <th>PERCENTILE(CUM_MEAN(v407))</th>\n",
       "      <th>PERCENTILE(CUM_MEAN(v396))</th>\n",
       "      <th>PERCENTILE(CUM_MEAN(v428))</th>\n",
       "    </tr>\n",
       "  </thead>\n",
       "  <tbody>\n",
       "    <tr>\n",
       "      <th>264663</th>\n",
       "      <td>0.75</td>\n",
       "      <td>1.00</td>\n",
       "      <td>0.50</td>\n",
       "      <td>1.00</td>\n",
       "      <td>0.50</td>\n",
       "      <td>0.75</td>\n",
       "      <td>0.75</td>\n",
       "      <td>0.50</td>\n",
       "      <td>0.25</td>\n",
       "      <td>0.00</td>\n",
       "      <td>...</td>\n",
       "      <td>0.6714</td>\n",
       "      <td>0.7880</td>\n",
       "      <td>0.3389</td>\n",
       "      <td>0.88960</td>\n",
       "      <td>0.6753</td>\n",
       "      <td>0.8413</td>\n",
       "      <td>0.86900</td>\n",
       "      <td>0.2742</td>\n",
       "      <td>0.2725</td>\n",
       "      <td>0.3433</td>\n",
       "    </tr>\n",
       "    <tr>\n",
       "      <th>245434</th>\n",
       "      <td>0.50</td>\n",
       "      <td>0.50</td>\n",
       "      <td>0.75</td>\n",
       "      <td>0.25</td>\n",
       "      <td>0.75</td>\n",
       "      <td>0.75</td>\n",
       "      <td>0.00</td>\n",
       "      <td>0.50</td>\n",
       "      <td>0.25</td>\n",
       "      <td>0.25</td>\n",
       "      <td>...</td>\n",
       "      <td>0.1016</td>\n",
       "      <td>0.5386</td>\n",
       "      <td>0.7770</td>\n",
       "      <td>0.69300</td>\n",
       "      <td>0.9224</td>\n",
       "      <td>0.2966</td>\n",
       "      <td>0.08320</td>\n",
       "      <td>0.7910</td>\n",
       "      <td>0.6816</td>\n",
       "      <td>0.7603</td>\n",
       "    </tr>\n",
       "    <tr>\n",
       "      <th>406086</th>\n",
       "      <td>0.00</td>\n",
       "      <td>0.25</td>\n",
       "      <td>0.75</td>\n",
       "      <td>0.50</td>\n",
       "      <td>0.50</td>\n",
       "      <td>0.00</td>\n",
       "      <td>0.00</td>\n",
       "      <td>0.25</td>\n",
       "      <td>0.25</td>\n",
       "      <td>1.00</td>\n",
       "      <td>...</td>\n",
       "      <td>0.4960</td>\n",
       "      <td>0.5244</td>\n",
       "      <td>0.5080</td>\n",
       "      <td>0.53560</td>\n",
       "      <td>0.4575</td>\n",
       "      <td>0.4956</td>\n",
       "      <td>0.53370</td>\n",
       "      <td>0.4153</td>\n",
       "      <td>0.6130</td>\n",
       "      <td>0.4905</td>\n",
       "    </tr>\n",
       "    <tr>\n",
       "      <th>60827</th>\n",
       "      <td>0.00</td>\n",
       "      <td>0.25</td>\n",
       "      <td>1.00</td>\n",
       "      <td>0.50</td>\n",
       "      <td>0.00</td>\n",
       "      <td>1.00</td>\n",
       "      <td>0.00</td>\n",
       "      <td>1.00</td>\n",
       "      <td>0.00</td>\n",
       "      <td>0.75</td>\n",
       "      <td>...</td>\n",
       "      <td>0.2954</td>\n",
       "      <td>0.3872</td>\n",
       "      <td>0.8145</td>\n",
       "      <td>0.11456</td>\n",
       "      <td>0.9707</td>\n",
       "      <td>0.4140</td>\n",
       "      <td>0.03186</td>\n",
       "      <td>0.8936</td>\n",
       "      <td>0.0687</td>\n",
       "      <td>0.4458</td>\n",
       "    </tr>\n",
       "    <tr>\n",
       "      <th>471925</th>\n",
       "      <td>1.00</td>\n",
       "      <td>0.75</td>\n",
       "      <td>1.00</td>\n",
       "      <td>0.25</td>\n",
       "      <td>1.00</td>\n",
       "      <td>0.75</td>\n",
       "      <td>0.50</td>\n",
       "      <td>0.75</td>\n",
       "      <td>0.25</td>\n",
       "      <td>0.25</td>\n",
       "      <td>...</td>\n",
       "      <td>0.5250</td>\n",
       "      <td>0.6120</td>\n",
       "      <td>0.3210</td>\n",
       "      <td>0.80860</td>\n",
       "      <td>0.6226</td>\n",
       "      <td>0.6780</td>\n",
       "      <td>0.49540</td>\n",
       "      <td>0.6973</td>\n",
       "      <td>0.2850</td>\n",
       "      <td>0.4316</td>\n",
       "    </tr>\n",
       "  </tbody>\n",
       "</table>\n",
       "<p>5 rows × 121 columns</p>\n",
       "</div>"
      ],
      "text/plain": [
       "        v354  v350  v380  v219  v445  v422  v297  v374  v196  v416  ...  \\\n",
       "264663  0.75  1.00  0.50  1.00  0.50  0.75  0.75  0.50  0.25  0.00  ...   \n",
       "245434  0.50  0.50  0.75  0.25  0.75  0.75  0.00  0.50  0.25  0.25  ...   \n",
       "406086  0.00  0.25  0.75  0.50  0.50  0.00  0.00  0.25  0.25  1.00  ...   \n",
       "60827   0.00  0.25  1.00  0.50  0.00  1.00  0.00  1.00  0.00  0.75  ...   \n",
       "471925  1.00  0.75  1.00  0.25  1.00  0.75  0.50  0.75  0.25  0.25  ...   \n",
       "\n",
       "        PERCENTILE(CUM_MEAN(v191))  PERCENTILE(CUM_MEAN(v395))  \\\n",
       "264663                      0.6714                      0.7880   \n",
       "245434                      0.1016                      0.5386   \n",
       "406086                      0.4960                      0.5244   \n",
       "60827                       0.2954                      0.3872   \n",
       "471925                      0.5250                      0.6120   \n",
       "\n",
       "        PERCENTILE(CUM_MEAN(v467))  PERCENTILE(CUM_MEAN(v262))  \\\n",
       "264663                      0.3389                     0.88960   \n",
       "245434                      0.7770                     0.69300   \n",
       "406086                      0.5080                     0.53560   \n",
       "60827                       0.8145                     0.11456   \n",
       "471925                      0.3210                     0.80860   \n",
       "\n",
       "        PERCENTILE(CUM_MEAN(v350))  PERCENTILE(CUM_MEAN(v388))  \\\n",
       "264663                      0.6753                      0.8413   \n",
       "245434                      0.9224                      0.2966   \n",
       "406086                      0.4575                      0.4956   \n",
       "60827                       0.9707                      0.4140   \n",
       "471925                      0.6226                      0.6780   \n",
       "\n",
       "        PERCENTILE(CUM_MEAN(v416))  PERCENTILE(CUM_MEAN(v407))  \\\n",
       "264663                     0.86900                      0.2742   \n",
       "245434                     0.08320                      0.7910   \n",
       "406086                     0.53370                      0.4153   \n",
       "60827                      0.03186                      0.8936   \n",
       "471925                     0.49540                      0.6973   \n",
       "\n",
       "        PERCENTILE(CUM_MEAN(v396))  PERCENTILE(CUM_MEAN(v428))  \n",
       "264663                      0.2725                      0.3433  \n",
       "245434                      0.6816                      0.7603  \n",
       "406086                      0.6130                      0.4905  \n",
       "60827                       0.0687                      0.4458  \n",
       "471925                      0.2850                      0.4316  \n",
       "\n",
       "[5 rows x 121 columns]"
      ]
     },
     "execution_count": 44,
     "metadata": {},
     "output_type": "execute_result"
    }
   ],
   "source": [
    "# Sample 16000 rows (10_000 for training, 6000 for testing)\n",
    "features = features.sample(n=16_000, random_state=42)\n",
    "\n",
    "# Only numeric features\n",
    "features = features.select_dtypes(\"number\")\n",
    "\n",
    "# Extract the labels\n",
    "labels = np.array(features[\"target\"].astype(np.int32)).reshape((-1,))\n",
    "features = features.drop(columns=[\"target\", \"ROW_ID\"])\n",
    "\n",
    "# Split into training and testing data\n",
    "train_features, test_features, train_labels, test_labels = train_test_split(\n",
    "    features, labels, test_size=6000, random_state=42\n",
    ")\n",
    "\n",
    "print(\"Train shape: \", train_features.shape)\n",
    "print(\"Test shape: \", test_features.shape)\n",
    "\n",
    "train_features.head()\n"
   ]
  },
  {
   "cell_type": "code",
   "execution_count": 45,
   "metadata": {},
   "outputs": [],
   "source": [
    "model = lgb.LGBMRegressor(random_state=50)\n",
    "\n",
    "# Training set\n",
    "train_set = lgb.Dataset(train_features, label=train_labels)\n",
    "test_set = lgb.Dataset(test_features, label=test_labels)\n"
   ]
  },
  {
   "cell_type": "code",
   "execution_count": 46,
   "metadata": {},
   "outputs": [],
   "source": [
    "# Default hyperparamters\n",
    "hyperparameters = model.get_params()\n",
    "\n",
    "# Using early stopping to determine number of estimators.\n",
    "del hyperparameters[\"n_estimators\"]\n",
    "\n",
    "# Perform cross validation with early stopping\n",
    "cv_results = lgb.cv(\n",
    "    hyperparameters,\n",
    "    train_set,\n",
    "    num_boost_round=10_000,\n",
    "    nfold=N_FOLDS,\n",
    "    metrics=\"mae\",\n",
    "    early_stopping_rounds=100,\n",
    "    verbose_eval=False,\n",
    "    seed=42,\n",
    ")"
   ]
  },
  {
   "cell_type": "code",
   "execution_count": 47,
   "metadata": {},
   "outputs": [
    {
     "name": "stdout",
     "output_type": "stream",
     "text": [
      "The maximium MAE in cross validation was 0.31776 with std of 0.00239.\n",
      "The ideal number of iterations was 111.\n"
     ]
    }
   ],
   "source": [
    "# Highest score\n",
    "best = cv_results[\"l1-mean\"][-1]\n",
    "\n",
    "# Standard deviation of best score\n",
    "best_std = cv_results[\"l1-stdv\"][-1]\n",
    "\n",
    "print(\n",
    "    f\"The maximium MAE in cross validation was {best:.5f} with std of {best_std:.5f}.\"\n",
    ")\n",
    "print(f\"The ideal number of iterations was {len(cv_results['l1-mean'])}.\")"
   ]
  },
  {
   "cell_type": "code",
   "execution_count": 48,
   "metadata": {},
   "outputs": [
    {
     "data": {
      "text/plain": [
       "LGBMRegressor(n_estimators=111, random_state=50)"
      ]
     },
     "execution_count": 48,
     "metadata": {},
     "output_type": "execute_result"
    }
   ],
   "source": [
    "# Optimal number of esimators found in cv\n",
    "model.n_estimators = len(cv_results['l1-mean'])\n",
    "\n",
    "# Train and make predicions with model\n",
    "model.fit(train_features, train_labels)"
   ]
  },
  {
   "cell_type": "code",
   "execution_count": 49,
   "metadata": {},
   "outputs": [
    {
     "name": "stdout",
     "output_type": "stream",
     "text": [
      "The baseline model scores 0.31391 MAE on the test set.\n"
     ]
    }
   ],
   "source": [
    "# Train and make predicions with model\n",
    "model.fit(train_features, train_labels)\n",
    "preds = model.predict(test_features)\n",
    "baseline_mae = mean_absolute_error(test_labels, preds)\n",
    "\n",
    "print(f'The baseline model scores {baseline_mae:.5f} MAE on the test set.')"
   ]
  },
  {
   "cell_type": "markdown",
   "metadata": {},
   "source": [
    "### Objective Function"
   ]
  },
  {
   "cell_type": "code",
   "execution_count": 50,
   "metadata": {},
   "outputs": [],
   "source": [
    "def objective(hyperparameters):\n",
    "    \"\"\"Objective function for Gradient Boosting Machine Hyperparameter Optimization.\n",
    "       Writes a new line to `outfile` on every iteration\"\"\"\n",
    "\n",
    "    # Keep track of evals\n",
    "    global ITERATION\n",
    "\n",
    "    ITERATION += 1\n",
    "\n",
    "    # Using early stopping to find number of trees trained\n",
    "    if \"n_estimators\" in hyperparameters:\n",
    "        del hyperparameters[\"n_estimators\"]\n",
    "\n",
    "    # Retrieve the subsample\n",
    "    subsample = hyperparameters[\"boosting_type\"].get(\"subsample\", 1.0)\n",
    "\n",
    "    # Extract the boosting type and subsample to top level keys\n",
    "    hyperparameters[\"boosting_type\"] = hyperparameters[\"boosting_type\"][\"boosting_type\"]\n",
    "    hyperparameters[\"subsample\"] = subsample\n",
    "\n",
    "    # Make sure parameters that need to be integers are integers\n",
    "    for parameter_name in [\"num_leaves\", \"subsample_for_bin\", \"min_child_samples\"]:\n",
    "        hyperparameters[parameter_name] = int(hyperparameters[parameter_name])\n",
    "\n",
    "    start = timer()\n",
    "\n",
    "    # Perform n_folds cross validation\n",
    "    cv_results = lgb.cv(\n",
    "        hyperparameters,\n",
    "        train_set,\n",
    "        num_boost_round=10_000,\n",
    "        nfold=N_FOLDS,\n",
    "        early_stopping_rounds=100,\n",
    "        metrics=\"mae\",\n",
    "        seed=50,\n",
    "    )\n",
    "\n",
    "    run_time = timer() - start\n",
    "\n",
    "    # Extract the best score\n",
    "    best_score = cv_results[\"l1-mean\"][-1]\n",
    "\n",
    "    # Loss must be minimized\n",
    "    loss = 1 - best_score\n",
    "\n",
    "    # Boosting rounds that returned the highest cv score\n",
    "    n_estimators = len(cv_results[\"l1-mean\"])\n",
    "\n",
    "    # Add the number of estimators to the hyperparameters\n",
    "    hyperparameters[\"n_estimators\"] = n_estimators\n",
    "\n",
    "    # Write to the csv file ('a' means append)\n",
    "    of_connection = open(OUT_FILE, \"a\")\n",
    "    writer = csv.writer(of_connection)\n",
    "    writer.writerow([loss, hyperparameters, ITERATION, run_time, best_score])\n",
    "    of_connection.close()\n",
    "\n",
    "    # Dictionary with information for evaluation\n",
    "    return {\n",
    "        \"loss\": loss,\n",
    "        \"hyperparameters\": hyperparameters,\n",
    "        \"iteration\": ITERATION,\n",
    "        \"train_time\": run_time,\n",
    "        \"status\": STATUS_OK,\n",
    "    }\n"
   ]
  },
  {
   "cell_type": "code",
   "execution_count": 51,
   "metadata": {},
   "outputs": [],
   "source": [
    "# Create the learning rate\n",
    "learning_rate = {\n",
    "    \"learning_rate\": hp.loguniform(\"learning_rate\", np.log(0.005), np.log(0.2))\n",
    "}\n"
   ]
  },
  {
   "cell_type": "markdown",
   "metadata": {},
   "source": [
    "#### We can visualize the learning rate by drawing 10_000 samples from the distribution."
   ]
  },
  {
   "cell_type": "code",
   "execution_count": 52,
   "metadata": {},
   "outputs": [
    {
     "data": {
      "image/png": "[encoded data removed]",
      "text/plain": [
       "<Figure size 576x432 with 1 Axes>"
      ]
     },
     "metadata": {},
     "output_type": "display_data"
    }
   ],
   "source": [
    "learning_rate_dist = []\n",
    "\n",
    "# Draw 10_000 samples from the learning rate domain\n",
    "for _ in range(10_000):\n",
    "    learning_rate_dist.append(sample(learning_rate)[\"learning_rate\"])\n",
    "\n",
    "plt.figure(figsize=(8, 6))\n",
    "sns.kdeplot(learning_rate_dist, color=\"red\", linewidth=2, shade=True)\n",
    "plt.title(\"Learning Rate Distribution\", size=18)\n",
    "plt.xlabel(\"Learning Rate\", size=16)\n",
    "plt.ylabel(\"Density\", size=16);\n"
   ]
  },
  {
   "cell_type": "code",
   "execution_count": 53,
   "metadata": {},
   "outputs": [
    {
     "data": {
      "image/png": "[encoded data removed]",
      "text/plain": [
       "<Figure size 576x432 with 1 Axes>"
      ]
     },
     "metadata": {},
     "output_type": "display_data"
    }
   ],
   "source": [
    "# Discrete uniform distribution\n",
    "num_leaves = {\"num_leaves\": hp.quniform(\"num_leaves\", 30, 150, 1)}\n",
    "num_leaves_dist = []\n",
    "\n",
    "# Sample 10_000 times from the number of leaves distribution\n",
    "for _ in range(10_000):\n",
    "    num_leaves_dist.append(sample(num_leaves)[\"num_leaves\"])\n",
    "\n",
    "# kdeplot\n",
    "plt.figure(figsize=(8, 6))\n",
    "sns.kdeplot(num_leaves_dist, linewidth=2, shade=True)\n",
    "plt.title(\"Number of Leaves Distribution\", size=18)\n",
    "plt.xlabel(\"Number of Leaves\", size=16)\n",
    "plt.ylabel(\"Density\", size=16);\n"
   ]
  },
  {
   "cell_type": "code",
   "execution_count": 54,
   "metadata": {},
   "outputs": [
    {
     "data": {
      "text/plain": [
       "{'boosting_type': {'boosting_type': 'dart', 'subsample': 0.5981945801253234}}"
      ]
     },
     "execution_count": 54,
     "metadata": {},
     "output_type": "execute_result"
    }
   ],
   "source": [
    "# boosting type domain\n",
    "boosting_type = {\n",
    "    \"boosting_type\": hp.choice(\n",
    "        \"boosting_type\",\n",
    "        [\n",
    "            {\"boosting_type\": \"gbdt\", \"subsample\": hp.uniform(\"subsample\", 0.5, 1)},\n",
    "            {\"boosting_type\": \"dart\", \"subsample\": hp.uniform(\"subsample\", 0.5, 1)},\n",
    "            {\"boosting_type\": \"goss\", \"subsample\": 1.0},\n",
    "        ],\n",
    "    )\n",
    "}\n",
    "\n",
    "# Draw a sample\n",
    "hyperparams = sample(boosting_type)\n",
    "hyperparams\n"
   ]
  },
  {
   "cell_type": "code",
   "execution_count": 55,
   "metadata": {},
   "outputs": [
    {
     "data": {
      "text/plain": [
       "{'boosting_type': 'dart', 'subsample': 0.5981945801253234}"
      ]
     },
     "execution_count": 55,
     "metadata": {},
     "output_type": "execute_result"
    }
   ],
   "source": [
    "# Retrieve the subsample if present otherwise set to 1.0\n",
    "subsample = hyperparams[\"boosting_type\"].get(\"subsample\", 1.0)\n",
    "\n",
    "# Extract the boosting type\n",
    "hyperparams[\"boosting_type\"] = hyperparams[\"boosting_type\"][\"boosting_type\"]\n",
    "hyperparams[\"subsample\"] = subsample\n",
    "\n",
    "hyperparams\n"
   ]
  },
  {
   "cell_type": "markdown",
   "metadata": {},
   "source": [
    "### Complete Bayesian Domain"
   ]
  },
  {
   "cell_type": "code",
   "execution_count": 56,
   "metadata": {},
   "outputs": [],
   "source": [
    "# Define the search space\n",
    "space = {\n",
    "    \"boosting_type\": hp.choice(\n",
    "        \"boosting_type\",\n",
    "        [\n",
    "            {\n",
    "                \"boosting_type\": \"gbdt\",\n",
    "                \"subsample\": hp.uniform(\"gdbt_subsample\", 0.5, 1),\n",
    "            },\n",
    "            {\n",
    "                \"boosting_type\": \"dart\",\n",
    "                \"subsample\": hp.uniform(\"dart_subsample\", 0.5, 1),\n",
    "            },\n",
    "            {\"boosting_type\": \"goss\", \"subsample\": 1.0},\n",
    "        ],\n",
    "    ),\n",
    "    \"num_leaves\": hp.quniform(\"num_leaves\", 20, 150, 1),\n",
    "    \"learning_rate\": hp.loguniform(\"learning_rate\", np.log(0.01), np.log(0.5)),\n",
    "    \"subsample_for_bin\": hp.quniform(\"subsample_for_bin\", 20_000, 300_000, 20_000),\n",
    "    \"min_child_samples\": hp.quniform(\"min_child_samples\", 20, 500, 5),\n",
    "    \"reg_alpha\": hp.uniform(\"reg_alpha\", 0.0, 1.0),\n",
    "    \"reg_lambda\": hp.uniform(\"reg_lambda\", 0.0, 1.0),\n",
    "    \"colsample_bytree\": hp.uniform(\"colsample_by_tree\", 0.6, 1.0),\n",
    "    \"is_unbalance\": hp.choice(\"is_unbalance\", [True, False]),\n",
    "}\n"
   ]
  },
  {
   "cell_type": "markdown",
   "metadata": {},
   "source": [
    "#### Example of Sampling from the Domain"
   ]
  },
  {
   "cell_type": "code",
   "execution_count": 57,
   "metadata": {},
   "outputs": [
    {
     "data": {
      "text/plain": [
       "{'boosting_type': 'gbdt',\n",
       " 'colsample_bytree': 0.9096077899515761,\n",
       " 'is_unbalance': False,\n",
       " 'learning_rate': 0.01578274634528609,\n",
       " 'min_child_samples': 195.0,\n",
       " 'num_leaves': 46.0,\n",
       " 'reg_alpha': 0.6343187949953012,\n",
       " 'reg_lambda': 0.029049073055069763,\n",
       " 'subsample_for_bin': 40000.0,\n",
       " 'subsample': 0.6483870583271683}"
      ]
     },
     "execution_count": 57,
     "metadata": {},
     "output_type": "execute_result"
    }
   ],
   "source": [
    "# Sample from the full space\n",
    "x = sample(space)\n",
    "\n",
    "# Conditional logic to assign top-level keys\n",
    "subsample = x[\"boosting_type\"].get(\"subsample\", 1.0)\n",
    "x[\"boosting_type\"] = x[\"boosting_type\"][\"boosting_type\"]\n",
    "x[\"subsample\"] = subsample\n",
    "\n",
    "x\n"
   ]
  },
  {
   "cell_type": "code",
   "execution_count": 58,
   "metadata": {},
   "outputs": [
    {
     "name": "stdout",
     "output_type": "stream",
     "text": [
      "The cross validation loss = 0.68094.\n",
      "The optimal number of estimators was 31.\n"
     ]
    }
   ],
   "source": [
    "# Test the objective function\n",
    "results = objective(sample(space))\n",
    "print(f\"The cross validation loss = {results['loss']:.5f}.\")\n",
    "print(\"The optimal number of estimators was {}.\".format(\n",
    "        results[\"hyperparameters\"][\"n_estimators\"]\n",
    "    )\n",
    ")\n"
   ]
  },
  {
   "cell_type": "markdown",
   "metadata": {},
   "source": [
    "## Optimization Algorithm"
   ]
  },
  {
   "cell_type": "code",
   "execution_count": 59,
   "metadata": {},
   "outputs": [],
   "source": [
    "# Create the algorithm\n",
    "tpe_algorithm = tpe.suggest"
   ]
  },
  {
   "cell_type": "code",
   "execution_count": 60,
   "metadata": {},
   "outputs": [],
   "source": [
    "# Record results\n",
    "trials = Trials()"
   ]
  },
  {
   "cell_type": "code",
   "execution_count": 61,
   "metadata": {},
   "outputs": [
    {
     "name": "stdout",
     "output_type": "stream",
     "text": [
      "100%|██████████| 5/5 [12:58<00:00, 155.77s/trial, best loss: 0.5944967591817826]\n",
      "CPU times: user 3h 26min 57s, sys: 20.6 s, total: 3h 27min 18s\n",
      "Wall time: 12min 58s\n"
     ]
    },
    {
     "data": {
      "text/plain": [
       "{'boosting_type': 1,\n",
       " 'colsample_by_tree': 0.7200057909889617,\n",
       " 'dart_subsample': 0.8682562659849684,\n",
       " 'is_unbalance': 0,\n",
       " 'learning_rate': 0.2845657674234743,\n",
       " 'min_child_samples': 195.0,\n",
       " 'num_leaves': 71.0,\n",
       " 'reg_alpha': 0.8465888279920283,\n",
       " 'reg_lambda': 0.21817506765489925,\n",
       " 'subsample_for_bin': 160000.0}"
      ]
     },
     "execution_count": 61,
     "metadata": {},
     "output_type": "execute_result"
    }
   ],
   "source": [
    "%%time\n",
    "# Global variable\n",
    "global ITERATION\n",
    "\n",
    "ITERATION = 0\n",
    "\n",
    "# Run optimization\n",
    "best = fmin(\n",
    "    fn=objective, space=space, algo=tpe.suggest, trials=trials, max_evals=MAX_EVALS\n",
    ")\n",
    "\n",
    "best\n"
   ]
  }
 ],
 "metadata": {
  "kernelspec": {
   "display_name": "scoring",
   "language": "python",
   "name": "scoring"
  },
  "language_info": {
   "codemirror_mode": {
    "name": "ipython",
    "version": 3
   },
   "file_extension": ".py",
   "mimetype": "text/x-python",
   "name": "python",
   "nbconvert_exporter": "python",
   "pygments_lexer": "ipython3",
   "version": "3.6.9"
  }
 },
 "nbformat": 4,
 "nbformat_minor": 4
}
